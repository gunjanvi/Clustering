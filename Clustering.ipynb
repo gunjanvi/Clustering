{
 "cells": [
  {
   "cell_type": "markdown",
   "metadata": {},
   "source": [
    "# Clustering - Cereals Dataset"
   ]
  },
  {
   "cell_type": "markdown",
   "metadata": {},
   "source": [
    "### Import Libraries"
   ]
  },
  {
   "cell_type": "code",
   "execution_count": 1,
   "metadata": {
    "ExecuteTime": {
     "end_time": "2019-10-12T11:35:27.027097Z",
     "start_time": "2019-10-12T11:35:23.843257Z"
    }
   },
   "outputs": [
    {
     "data": {
      "text/html": [
       "        <script type=\"text/javascript\">\n",
       "        window.PlotlyConfig = {MathJaxConfig: 'local'};\n",
       "        if (window.MathJax) {MathJax.Hub.Config({SVG: {font: \"STIX-Web\"}});}\n",
       "        if (typeof require !== 'undefined') {\n",
       "        require.undef(\"plotly\");\n",
       "        requirejs.config({\n",
       "            paths: {\n",
       "                'plotly': ['https://cdn.plot.ly/plotly-latest.min']\n",
       "            }\n",
       "        });\n",
       "        require(['plotly'], function(Plotly) {\n",
       "            window._Plotly = Plotly;\n",
       "        });\n",
       "        }\n",
       "        </script>\n",
       "        "
      ]
     },
     "metadata": {},
     "output_type": "display_data"
    }
   ],
   "source": [
    "# Loadind the required modules to read the data \n",
    "import pandas as pd\n",
    "import numpy as np\n",
    "\n",
    "import plotly\n",
    "from plotly.offline import init_notebook_mode, iplot\n",
    "import plotly.graph_objs as go\n",
    "\n",
    "from plotly.offline import init_notebook_mode\n",
    "init_notebook_mode(connected=True)\n",
    "\n",
    "import warnings\n",
    "warnings.filterwarnings(\"ignore\")\n",
    "np.set_printoptions(suppress=True)  # TO set print options to suppress scientific notations"
   ]
  },
  {
   "cell_type": "markdown",
   "metadata": {},
   "source": [
    "### Reading data"
   ]
  },
  {
   "cell_type": "code",
   "execution_count": 2,
   "metadata": {
    "ExecuteTime": {
     "end_time": "2019-10-12T11:35:27.096499Z",
     "start_time": "2019-10-12T11:35:27.030316Z"
    }
   },
   "outputs": [
    {
     "data": {
      "text/html": [
       "<div>\n",
       "<style scoped>\n",
       "    .dataframe tbody tr th:only-of-type {\n",
       "        vertical-align: middle;\n",
       "    }\n",
       "\n",
       "    .dataframe tbody tr th {\n",
       "        vertical-align: top;\n",
       "    }\n",
       "\n",
       "    .dataframe thead th {\n",
       "        text-align: right;\n",
       "    }\n",
       "</style>\n",
       "<table border=\"1\" class=\"dataframe\">\n",
       "  <thead>\n",
       "    <tr style=\"text-align: right;\">\n",
       "      <th></th>\n",
       "      <th>name</th>\n",
       "      <th>calories</th>\n",
       "      <th>protein</th>\n",
       "      <th>fat</th>\n",
       "      <th>sodium</th>\n",
       "      <th>fiber</th>\n",
       "      <th>carbo</th>\n",
       "      <th>sugars</th>\n",
       "      <th>potass</th>\n",
       "      <th>vitamins</th>\n",
       "      <th>shelf</th>\n",
       "      <th>weight</th>\n",
       "      <th>cups</th>\n",
       "      <th>rating</th>\n",
       "    </tr>\n",
       "  </thead>\n",
       "  <tbody>\n",
       "    <tr>\n",
       "      <th>0</th>\n",
       "      <td>100%_Bran</td>\n",
       "      <td>70</td>\n",
       "      <td>4</td>\n",
       "      <td>1</td>\n",
       "      <td>130</td>\n",
       "      <td>10.0</td>\n",
       "      <td>5.0</td>\n",
       "      <td>6.0</td>\n",
       "      <td>280.0</td>\n",
       "      <td>25</td>\n",
       "      <td>3</td>\n",
       "      <td>1.0</td>\n",
       "      <td>0.33</td>\n",
       "      <td>68.402973</td>\n",
       "    </tr>\n",
       "    <tr>\n",
       "      <th>1</th>\n",
       "      <td>100%_Natural_Bran</td>\n",
       "      <td>120</td>\n",
       "      <td>3</td>\n",
       "      <td>5</td>\n",
       "      <td>15</td>\n",
       "      <td>2.0</td>\n",
       "      <td>8.0</td>\n",
       "      <td>8.0</td>\n",
       "      <td>135.0</td>\n",
       "      <td>0</td>\n",
       "      <td>3</td>\n",
       "      <td>1.0</td>\n",
       "      <td>1.00</td>\n",
       "      <td>33.983679</td>\n",
       "    </tr>\n",
       "    <tr>\n",
       "      <th>2</th>\n",
       "      <td>All-Bran</td>\n",
       "      <td>70</td>\n",
       "      <td>4</td>\n",
       "      <td>1</td>\n",
       "      <td>260</td>\n",
       "      <td>9.0</td>\n",
       "      <td>7.0</td>\n",
       "      <td>5.0</td>\n",
       "      <td>320.0</td>\n",
       "      <td>25</td>\n",
       "      <td>3</td>\n",
       "      <td>1.0</td>\n",
       "      <td>0.33</td>\n",
       "      <td>59.425505</td>\n",
       "    </tr>\n",
       "    <tr>\n",
       "      <th>3</th>\n",
       "      <td>All-Bran_with_Extra_Fiber</td>\n",
       "      <td>50</td>\n",
       "      <td>4</td>\n",
       "      <td>0</td>\n",
       "      <td>140</td>\n",
       "      <td>14.0</td>\n",
       "      <td>8.0</td>\n",
       "      <td>0.0</td>\n",
       "      <td>330.0</td>\n",
       "      <td>25</td>\n",
       "      <td>3</td>\n",
       "      <td>1.0</td>\n",
       "      <td>0.50</td>\n",
       "      <td>93.704912</td>\n",
       "    </tr>\n",
       "    <tr>\n",
       "      <th>4</th>\n",
       "      <td>Almond_Delight</td>\n",
       "      <td>110</td>\n",
       "      <td>2</td>\n",
       "      <td>2</td>\n",
       "      <td>200</td>\n",
       "      <td>1.0</td>\n",
       "      <td>14.0</td>\n",
       "      <td>8.0</td>\n",
       "      <td>NaN</td>\n",
       "      <td>25</td>\n",
       "      <td>3</td>\n",
       "      <td>1.0</td>\n",
       "      <td>0.75</td>\n",
       "      <td>34.384843</td>\n",
       "    </tr>\n",
       "  </tbody>\n",
       "</table>\n",
       "</div>"
      ],
      "text/plain": [
       "                        name  calories  protein  fat  sodium  fiber  carbo  \\\n",
       "0                  100%_Bran        70        4    1     130   10.0    5.0   \n",
       "1          100%_Natural_Bran       120        3    5      15    2.0    8.0   \n",
       "2                   All-Bran        70        4    1     260    9.0    7.0   \n",
       "3  All-Bran_with_Extra_Fiber        50        4    0     140   14.0    8.0   \n",
       "4             Almond_Delight       110        2    2     200    1.0   14.0   \n",
       "\n",
       "   sugars  potass  vitamins  shelf  weight  cups     rating  \n",
       "0     6.0   280.0        25      3     1.0  0.33  68.402973  \n",
       "1     8.0   135.0         0      3     1.0  1.00  33.983679  \n",
       "2     5.0   320.0        25      3     1.0  0.33  59.425505  \n",
       "3     0.0   330.0        25      3     1.0  0.50  93.704912  \n",
       "4     8.0     NaN        25      3     1.0  0.75  34.384843  "
      ]
     },
     "execution_count": 2,
     "metadata": {},
     "output_type": "execute_result"
    }
   ],
   "source": [
    "cereals = pd.read_csv(\"Cereals.csv\")\n",
    "cereals.head()"
   ]
  },
  {
   "cell_type": "markdown",
   "metadata": {},
   "source": [
    "### Aggregating \"name\", \"shelf\" and \"rating\" to make labels"
   ]
  },
  {
   "cell_type": "code",
   "execution_count": 3,
   "metadata": {
    "ExecuteTime": {
     "end_time": "2019-10-12T11:35:27.129857Z",
     "start_time": "2019-10-12T11:35:27.099298Z"
    }
   },
   "outputs": [],
   "source": [
    "cereals['label'] = cereals['name']+ ' (' + cereals['shelf'].astype(str) + \" - \" + round(cereals['rating'],2).astype(str) + ')'\n",
    "cereals.drop(['name','shelf','rating'], axis=1, inplace=True)"
   ]
  },
  {
   "cell_type": "markdown",
   "metadata": {
    "collapsed": true
   },
   "source": [
    "# Data Exploration"
   ]
  },
  {
   "cell_type": "code",
   "execution_count": 4,
   "metadata": {
    "ExecuteTime": {
     "end_time": "2019-10-12T11:35:27.160215Z",
     "start_time": "2019-10-12T11:35:27.135005Z"
    }
   },
   "outputs": [
    {
     "data": {
      "text/html": [
       "<div>\n",
       "<style scoped>\n",
       "    .dataframe tbody tr th:only-of-type {\n",
       "        vertical-align: middle;\n",
       "    }\n",
       "\n",
       "    .dataframe tbody tr th {\n",
       "        vertical-align: top;\n",
       "    }\n",
       "\n",
       "    .dataframe thead th {\n",
       "        text-align: right;\n",
       "    }\n",
       "</style>\n",
       "<table border=\"1\" class=\"dataframe\">\n",
       "  <thead>\n",
       "    <tr style=\"text-align: right;\">\n",
       "      <th></th>\n",
       "      <th>calories</th>\n",
       "      <th>protein</th>\n",
       "      <th>fat</th>\n",
       "      <th>sodium</th>\n",
       "      <th>fiber</th>\n",
       "      <th>carbo</th>\n",
       "      <th>sugars</th>\n",
       "      <th>potass</th>\n",
       "      <th>vitamins</th>\n",
       "      <th>weight</th>\n",
       "      <th>cups</th>\n",
       "      <th>label</th>\n",
       "    </tr>\n",
       "  </thead>\n",
       "  <tbody>\n",
       "    <tr>\n",
       "      <th>0</th>\n",
       "      <td>70</td>\n",
       "      <td>4</td>\n",
       "      <td>1</td>\n",
       "      <td>130</td>\n",
       "      <td>10.0</td>\n",
       "      <td>5.0</td>\n",
       "      <td>6.0</td>\n",
       "      <td>280.0</td>\n",
       "      <td>25</td>\n",
       "      <td>1.0</td>\n",
       "      <td>0.33</td>\n",
       "      <td>100%_Bran (3 - 68.4)</td>\n",
       "    </tr>\n",
       "    <tr>\n",
       "      <th>1</th>\n",
       "      <td>120</td>\n",
       "      <td>3</td>\n",
       "      <td>5</td>\n",
       "      <td>15</td>\n",
       "      <td>2.0</td>\n",
       "      <td>8.0</td>\n",
       "      <td>8.0</td>\n",
       "      <td>135.0</td>\n",
       "      <td>0</td>\n",
       "      <td>1.0</td>\n",
       "      <td>1.00</td>\n",
       "      <td>100%_Natural_Bran (3 - 33.98)</td>\n",
       "    </tr>\n",
       "    <tr>\n",
       "      <th>2</th>\n",
       "      <td>70</td>\n",
       "      <td>4</td>\n",
       "      <td>1</td>\n",
       "      <td>260</td>\n",
       "      <td>9.0</td>\n",
       "      <td>7.0</td>\n",
       "      <td>5.0</td>\n",
       "      <td>320.0</td>\n",
       "      <td>25</td>\n",
       "      <td>1.0</td>\n",
       "      <td>0.33</td>\n",
       "      <td>All-Bran (3 - 59.43)</td>\n",
       "    </tr>\n",
       "    <tr>\n",
       "      <th>3</th>\n",
       "      <td>50</td>\n",
       "      <td>4</td>\n",
       "      <td>0</td>\n",
       "      <td>140</td>\n",
       "      <td>14.0</td>\n",
       "      <td>8.0</td>\n",
       "      <td>0.0</td>\n",
       "      <td>330.0</td>\n",
       "      <td>25</td>\n",
       "      <td>1.0</td>\n",
       "      <td>0.50</td>\n",
       "      <td>All-Bran_with_Extra_Fiber (3 - 93.7)</td>\n",
       "    </tr>\n",
       "    <tr>\n",
       "      <th>4</th>\n",
       "      <td>110</td>\n",
       "      <td>2</td>\n",
       "      <td>2</td>\n",
       "      <td>200</td>\n",
       "      <td>1.0</td>\n",
       "      <td>14.0</td>\n",
       "      <td>8.0</td>\n",
       "      <td>NaN</td>\n",
       "      <td>25</td>\n",
       "      <td>1.0</td>\n",
       "      <td>0.75</td>\n",
       "      <td>Almond_Delight (3 - 34.38)</td>\n",
       "    </tr>\n",
       "  </tbody>\n",
       "</table>\n",
       "</div>"
      ],
      "text/plain": [
       "   calories  protein  fat  sodium  fiber  carbo  sugars  potass  vitamins  \\\n",
       "0        70        4    1     130   10.0    5.0     6.0   280.0        25   \n",
       "1       120        3    5      15    2.0    8.0     8.0   135.0         0   \n",
       "2        70        4    1     260    9.0    7.0     5.0   320.0        25   \n",
       "3        50        4    0     140   14.0    8.0     0.0   330.0        25   \n",
       "4       110        2    2     200    1.0   14.0     8.0     NaN        25   \n",
       "\n",
       "   weight  cups                                 label  \n",
       "0     1.0  0.33                  100%_Bran (3 - 68.4)  \n",
       "1     1.0  1.00         100%_Natural_Bran (3 - 33.98)  \n",
       "2     1.0  0.33                  All-Bran (3 - 59.43)  \n",
       "3     1.0  0.50  All-Bran_with_Extra_Fiber (3 - 93.7)  \n",
       "4     1.0  0.75            Almond_Delight (3 - 34.38)  "
      ]
     },
     "execution_count": 4,
     "metadata": {},
     "output_type": "execute_result"
    }
   ],
   "source": [
    "# check the head\n",
    "cereals.head()"
   ]
  },
  {
   "cell_type": "markdown",
   "metadata": {},
   "source": [
    "### Check summary statistics"
   ]
  },
  {
   "cell_type": "code",
   "execution_count": 5,
   "metadata": {
    "ExecuteTime": {
     "end_time": "2019-10-12T11:35:27.249031Z",
     "start_time": "2019-10-12T11:35:27.165442Z"
    }
   },
   "outputs": [
    {
     "data": {
      "text/html": [
       "<div>\n",
       "<style scoped>\n",
       "    .dataframe tbody tr th:only-of-type {\n",
       "        vertical-align: middle;\n",
       "    }\n",
       "\n",
       "    .dataframe tbody tr th {\n",
       "        vertical-align: top;\n",
       "    }\n",
       "\n",
       "    .dataframe thead th {\n",
       "        text-align: right;\n",
       "    }\n",
       "</style>\n",
       "<table border=\"1\" class=\"dataframe\">\n",
       "  <thead>\n",
       "    <tr style=\"text-align: right;\">\n",
       "      <th></th>\n",
       "      <th>calories</th>\n",
       "      <th>protein</th>\n",
       "      <th>fat</th>\n",
       "      <th>sodium</th>\n",
       "      <th>fiber</th>\n",
       "      <th>carbo</th>\n",
       "      <th>sugars</th>\n",
       "      <th>potass</th>\n",
       "      <th>vitamins</th>\n",
       "      <th>weight</th>\n",
       "      <th>cups</th>\n",
       "    </tr>\n",
       "  </thead>\n",
       "  <tbody>\n",
       "    <tr>\n",
       "      <th>count</th>\n",
       "      <td>77.000000</td>\n",
       "      <td>77.000000</td>\n",
       "      <td>77.000000</td>\n",
       "      <td>77.000000</td>\n",
       "      <td>77.000000</td>\n",
       "      <td>76.000000</td>\n",
       "      <td>76.000000</td>\n",
       "      <td>75.000000</td>\n",
       "      <td>77.000000</td>\n",
       "      <td>77.000000</td>\n",
       "      <td>77.000000</td>\n",
       "    </tr>\n",
       "    <tr>\n",
       "      <th>mean</th>\n",
       "      <td>106.883117</td>\n",
       "      <td>2.545455</td>\n",
       "      <td>1.012987</td>\n",
       "      <td>159.675325</td>\n",
       "      <td>2.151948</td>\n",
       "      <td>14.802632</td>\n",
       "      <td>7.026316</td>\n",
       "      <td>98.666667</td>\n",
       "      <td>28.246753</td>\n",
       "      <td>1.029610</td>\n",
       "      <td>0.821039</td>\n",
       "    </tr>\n",
       "    <tr>\n",
       "      <th>std</th>\n",
       "      <td>19.484119</td>\n",
       "      <td>1.094790</td>\n",
       "      <td>1.006473</td>\n",
       "      <td>83.832295</td>\n",
       "      <td>2.383364</td>\n",
       "      <td>3.907326</td>\n",
       "      <td>4.378656</td>\n",
       "      <td>70.410636</td>\n",
       "      <td>22.342523</td>\n",
       "      <td>0.150477</td>\n",
       "      <td>0.232716</td>\n",
       "    </tr>\n",
       "    <tr>\n",
       "      <th>min</th>\n",
       "      <td>50.000000</td>\n",
       "      <td>1.000000</td>\n",
       "      <td>0.000000</td>\n",
       "      <td>0.000000</td>\n",
       "      <td>0.000000</td>\n",
       "      <td>5.000000</td>\n",
       "      <td>0.000000</td>\n",
       "      <td>15.000000</td>\n",
       "      <td>0.000000</td>\n",
       "      <td>0.500000</td>\n",
       "      <td>0.250000</td>\n",
       "    </tr>\n",
       "    <tr>\n",
       "      <th>25%</th>\n",
       "      <td>100.000000</td>\n",
       "      <td>2.000000</td>\n",
       "      <td>0.000000</td>\n",
       "      <td>130.000000</td>\n",
       "      <td>1.000000</td>\n",
       "      <td>12.000000</td>\n",
       "      <td>3.000000</td>\n",
       "      <td>42.500000</td>\n",
       "      <td>25.000000</td>\n",
       "      <td>1.000000</td>\n",
       "      <td>0.670000</td>\n",
       "    </tr>\n",
       "    <tr>\n",
       "      <th>50%</th>\n",
       "      <td>110.000000</td>\n",
       "      <td>3.000000</td>\n",
       "      <td>1.000000</td>\n",
       "      <td>180.000000</td>\n",
       "      <td>2.000000</td>\n",
       "      <td>14.500000</td>\n",
       "      <td>7.000000</td>\n",
       "      <td>90.000000</td>\n",
       "      <td>25.000000</td>\n",
       "      <td>1.000000</td>\n",
       "      <td>0.750000</td>\n",
       "    </tr>\n",
       "    <tr>\n",
       "      <th>75%</th>\n",
       "      <td>110.000000</td>\n",
       "      <td>3.000000</td>\n",
       "      <td>2.000000</td>\n",
       "      <td>210.000000</td>\n",
       "      <td>3.000000</td>\n",
       "      <td>17.000000</td>\n",
       "      <td>11.000000</td>\n",
       "      <td>120.000000</td>\n",
       "      <td>25.000000</td>\n",
       "      <td>1.000000</td>\n",
       "      <td>1.000000</td>\n",
       "    </tr>\n",
       "    <tr>\n",
       "      <th>max</th>\n",
       "      <td>160.000000</td>\n",
       "      <td>6.000000</td>\n",
       "      <td>5.000000</td>\n",
       "      <td>320.000000</td>\n",
       "      <td>14.000000</td>\n",
       "      <td>23.000000</td>\n",
       "      <td>15.000000</td>\n",
       "      <td>330.000000</td>\n",
       "      <td>100.000000</td>\n",
       "      <td>1.500000</td>\n",
       "      <td>1.500000</td>\n",
       "    </tr>\n",
       "  </tbody>\n",
       "</table>\n",
       "</div>"
      ],
      "text/plain": [
       "         calories    protein        fat      sodium      fiber      carbo  \\\n",
       "count   77.000000  77.000000  77.000000   77.000000  77.000000  76.000000   \n",
       "mean   106.883117   2.545455   1.012987  159.675325   2.151948  14.802632   \n",
       "std     19.484119   1.094790   1.006473   83.832295   2.383364   3.907326   \n",
       "min     50.000000   1.000000   0.000000    0.000000   0.000000   5.000000   \n",
       "25%    100.000000   2.000000   0.000000  130.000000   1.000000  12.000000   \n",
       "50%    110.000000   3.000000   1.000000  180.000000   2.000000  14.500000   \n",
       "75%    110.000000   3.000000   2.000000  210.000000   3.000000  17.000000   \n",
       "max    160.000000   6.000000   5.000000  320.000000  14.000000  23.000000   \n",
       "\n",
       "          sugars      potass    vitamins     weight       cups  \n",
       "count  76.000000   75.000000   77.000000  77.000000  77.000000  \n",
       "mean    7.026316   98.666667   28.246753   1.029610   0.821039  \n",
       "std     4.378656   70.410636   22.342523   0.150477   0.232716  \n",
       "min     0.000000   15.000000    0.000000   0.500000   0.250000  \n",
       "25%     3.000000   42.500000   25.000000   1.000000   0.670000  \n",
       "50%     7.000000   90.000000   25.000000   1.000000   0.750000  \n",
       "75%    11.000000  120.000000   25.000000   1.000000   1.000000  \n",
       "max    15.000000  330.000000  100.000000   1.500000   1.500000  "
      ]
     },
     "execution_count": 5,
     "metadata": {},
     "output_type": "execute_result"
    }
   ],
   "source": [
    "cereals.describe()"
   ]
  },
  {
   "cell_type": "markdown",
   "metadata": {},
   "source": [
    "### Decouple label from the features"
   ]
  },
  {
   "cell_type": "code",
   "execution_count": 6,
   "metadata": {
    "ExecuteTime": {
     "end_time": "2019-10-12T11:35:27.298547Z",
     "start_time": "2019-10-12T11:35:27.278051Z"
    }
   },
   "outputs": [
    {
     "data": {
      "text/plain": [
       "Index(['calories', 'protein', 'fat', 'sodium', 'fiber', 'carbo', 'sugars',\n",
       "       'potass', 'vitamins', 'weight', 'cups', 'label'],\n",
       "      dtype='object')"
      ]
     },
     "execution_count": 6,
     "metadata": {},
     "output_type": "execute_result"
    }
   ],
   "source": [
    "cereals.columns"
   ]
  },
  {
   "cell_type": "code",
   "execution_count": 7,
   "metadata": {
    "ExecuteTime": {
     "end_time": "2019-10-12T11:35:27.332162Z",
     "start_time": "2019-10-12T11:35:27.319589Z"
    }
   },
   "outputs": [],
   "source": [
    "## Select all columns except \"label\"\n",
    "cereals_label = cereals['label']\n",
    "cereals = cereals[cereals.columns.difference(['label'])]"
   ]
  },
  {
   "cell_type": "code",
   "execution_count": 8,
   "metadata": {
    "ExecuteTime": {
     "end_time": "2019-10-12T11:35:27.348914Z",
     "start_time": "2019-10-12T11:35:27.338662Z"
    }
   },
   "outputs": [
    {
     "data": {
      "text/plain": [
       "Index(['calories', 'carbo', 'cups', 'fat', 'fiber', 'potass', 'protein',\n",
       "       'sodium', 'sugars', 'vitamins', 'weight'],\n",
       "      dtype='object')"
      ]
     },
     "execution_count": 8,
     "metadata": {},
     "output_type": "execute_result"
    }
   ],
   "source": [
    "## Check the data\n",
    "cereals.columns"
   ]
  },
  {
   "cell_type": "markdown",
   "metadata": {},
   "source": [
    "### Check missing values"
   ]
  },
  {
   "cell_type": "code",
   "execution_count": 9,
   "metadata": {
    "ExecuteTime": {
     "end_time": "2019-10-12T11:35:27.368560Z",
     "start_time": "2019-10-12T11:35:27.355839Z"
    }
   },
   "outputs": [
    {
     "data": {
      "text/plain": [
       "(77, 11)"
      ]
     },
     "execution_count": 9,
     "metadata": {},
     "output_type": "execute_result"
    }
   ],
   "source": [
    "cereals.isnull().sum()\n",
    "cereals.shape"
   ]
  },
  {
   "cell_type": "markdown",
   "metadata": {},
   "source": [
    "### Imputation"
   ]
  },
  {
   "cell_type": "code",
   "execution_count": 10,
   "metadata": {
    "ExecuteTime": {
     "end_time": "2019-10-12T11:35:27.955265Z",
     "start_time": "2019-10-12T11:35:27.370768Z"
    }
   },
   "outputs": [],
   "source": [
    "from sklearn.impute import SimpleImputer\n",
    "mean_Imputer = SimpleImputer()\n",
    "\n",
    "imputed_cereals = pd.DataFrame(mean_Imputer.fit_transform(cereals),\n",
    "                               columns=cereals.columns)"
   ]
  },
  {
   "cell_type": "markdown",
   "metadata": {},
   "source": [
    "### Checking for NAs again"
   ]
  },
  {
   "cell_type": "code",
   "execution_count": 11,
   "metadata": {
    "ExecuteTime": {
     "end_time": "2019-10-12T11:35:27.969616Z",
     "start_time": "2019-10-12T11:35:27.957728Z"
    }
   },
   "outputs": [
    {
     "data": {
      "text/plain": [
       "calories    0\n",
       "carbo       0\n",
       "cups        0\n",
       "fat         0\n",
       "fiber       0\n",
       "potass      0\n",
       "protein     0\n",
       "sodium      0\n",
       "sugars      0\n",
       "vitamins    0\n",
       "weight      0\n",
       "dtype: int64"
      ]
     },
     "execution_count": 11,
     "metadata": {},
     "output_type": "execute_result"
    }
   ],
   "source": [
    "imputed_cereals.isnull().sum(axis=0)"
   ]
  },
  {
   "cell_type": "markdown",
   "metadata": {},
   "source": [
    "### Standardization"
   ]
  },
  {
   "cell_type": "code",
   "execution_count": 12,
   "metadata": {
    "ExecuteTime": {
     "end_time": "2019-10-12T11:35:28.132326Z",
     "start_time": "2019-10-12T11:35:27.975513Z"
    }
   },
   "outputs": [
    {
     "data": {
      "text/html": [
       "<div>\n",
       "<style scoped>\n",
       "    .dataframe tbody tr th:only-of-type {\n",
       "        vertical-align: middle;\n",
       "    }\n",
       "\n",
       "    .dataframe tbody tr th {\n",
       "        vertical-align: top;\n",
       "    }\n",
       "\n",
       "    .dataframe thead th {\n",
       "        text-align: right;\n",
       "    }\n",
       "</style>\n",
       "<table border=\"1\" class=\"dataframe\">\n",
       "  <thead>\n",
       "    <tr style=\"text-align: right;\">\n",
       "      <th></th>\n",
       "      <th>calories</th>\n",
       "      <th>carbo</th>\n",
       "      <th>cups</th>\n",
       "      <th>fat</th>\n",
       "      <th>fiber</th>\n",
       "      <th>potass</th>\n",
       "      <th>protein</th>\n",
       "      <th>sodium</th>\n",
       "      <th>sugars</th>\n",
       "      <th>vitamins</th>\n",
       "      <th>weight</th>\n",
       "    </tr>\n",
       "  </thead>\n",
       "  <tbody>\n",
       "    <tr>\n",
       "      <th>0</th>\n",
       "      <td>-1.905397</td>\n",
       "      <td>-2.542013</td>\n",
       "      <td>-2.123870</td>\n",
       "      <td>-0.012988</td>\n",
       "      <td>3.314439</td>\n",
       "      <td>2.627053</td>\n",
       "      <td>1.337319</td>\n",
       "      <td>-0.356306</td>\n",
       "      <td>-0.237495</td>\n",
       "      <td>-0.14627</td>\n",
       "      <td>-0.198067</td>\n",
       "    </tr>\n",
       "    <tr>\n",
       "      <th>1</th>\n",
       "      <td>0.677623</td>\n",
       "      <td>-1.764055</td>\n",
       "      <td>0.774053</td>\n",
       "      <td>3.987349</td>\n",
       "      <td>-0.064172</td>\n",
       "      <td>0.526376</td>\n",
       "      <td>0.417912</td>\n",
       "      <td>-1.737087</td>\n",
       "      <td>0.225316</td>\n",
       "      <td>-1.27255</td>\n",
       "      <td>-0.198067</td>\n",
       "    </tr>\n",
       "    <tr>\n",
       "      <th>2</th>\n",
       "      <td>-1.905397</td>\n",
       "      <td>-2.023374</td>\n",
       "      <td>-2.123870</td>\n",
       "      <td>-0.012988</td>\n",
       "      <td>2.892113</td>\n",
       "      <td>3.206550</td>\n",
       "      <td>1.337319</td>\n",
       "      <td>1.204578</td>\n",
       "      <td>-0.468901</td>\n",
       "      <td>-0.14627</td>\n",
       "      <td>-0.198067</td>\n",
       "    </tr>\n",
       "    <tr>\n",
       "      <th>3</th>\n",
       "      <td>-2.938605</td>\n",
       "      <td>-1.764055</td>\n",
       "      <td>-1.388576</td>\n",
       "      <td>-1.013072</td>\n",
       "      <td>5.003745</td>\n",
       "      <td>3.351425</td>\n",
       "      <td>1.337319</td>\n",
       "      <td>-0.236238</td>\n",
       "      <td>-1.625929</td>\n",
       "      <td>-0.14627</td>\n",
       "      <td>-0.198067</td>\n",
       "    </tr>\n",
       "    <tr>\n",
       "      <th>4</th>\n",
       "      <td>0.161019</td>\n",
       "      <td>-0.208138</td>\n",
       "      <td>-0.307262</td>\n",
       "      <td>0.987096</td>\n",
       "      <td>-0.486498</td>\n",
       "      <td>0.000000</td>\n",
       "      <td>-0.501495</td>\n",
       "      <td>0.484170</td>\n",
       "      <td>0.225316</td>\n",
       "      <td>-0.14627</td>\n",
       "      <td>-0.198067</td>\n",
       "    </tr>\n",
       "  </tbody>\n",
       "</table>\n",
       "</div>"
      ],
      "text/plain": [
       "   calories     carbo      cups       fat     fiber    potass   protein  \\\n",
       "0 -1.905397 -2.542013 -2.123870 -0.012988  3.314439  2.627053  1.337319   \n",
       "1  0.677623 -1.764055  0.774053  3.987349 -0.064172  0.526376  0.417912   \n",
       "2 -1.905397 -2.023374 -2.123870 -0.012988  2.892113  3.206550  1.337319   \n",
       "3 -2.938605 -1.764055 -1.388576 -1.013072  5.003745  3.351425  1.337319   \n",
       "4  0.161019 -0.208138 -0.307262  0.987096 -0.486498  0.000000 -0.501495   \n",
       "\n",
       "     sodium    sugars  vitamins    weight  \n",
       "0 -0.356306 -0.237495  -0.14627 -0.198067  \n",
       "1 -1.737087  0.225316  -1.27255 -0.198067  \n",
       "2  1.204578 -0.468901  -0.14627 -0.198067  \n",
       "3 -0.236238 -1.625929  -0.14627 -0.198067  \n",
       "4  0.484170  0.225316  -0.14627 -0.198067  "
      ]
     },
     "execution_count": 12,
     "metadata": {},
     "output_type": "execute_result"
    }
   ],
   "source": [
    "from sklearn.preprocessing import StandardScaler\n",
    "standardizer = StandardScaler()\n",
    "standardizer.fit(imputed_cereals)\n",
    "std_x = standardizer.transform(imputed_cereals)\n",
    "std_cereals = pd.DataFrame(std_x,columns=imputed_cereals.columns)\n",
    "std_cereals.head()"
   ]
  },
  {
   "cell_type": "code",
   "execution_count": 13,
   "metadata": {
    "ExecuteTime": {
     "end_time": "2019-10-12T11:35:28.195891Z",
     "start_time": "2019-10-12T11:35:28.134882Z"
    }
   },
   "outputs": [
    {
     "data": {
      "text/html": [
       "<div>\n",
       "<style scoped>\n",
       "    .dataframe tbody tr th:only-of-type {\n",
       "        vertical-align: middle;\n",
       "    }\n",
       "\n",
       "    .dataframe tbody tr th {\n",
       "        vertical-align: top;\n",
       "    }\n",
       "\n",
       "    .dataframe thead th {\n",
       "        text-align: right;\n",
       "    }\n",
       "</style>\n",
       "<table border=\"1\" class=\"dataframe\">\n",
       "  <thead>\n",
       "    <tr style=\"text-align: right;\">\n",
       "      <th></th>\n",
       "      <th>calories</th>\n",
       "      <th>carbo</th>\n",
       "      <th>cups</th>\n",
       "      <th>fat</th>\n",
       "      <th>fiber</th>\n",
       "      <th>potass</th>\n",
       "      <th>protein</th>\n",
       "      <th>sodium</th>\n",
       "      <th>sugars</th>\n",
       "      <th>vitamins</th>\n",
       "      <th>weight</th>\n",
       "    </tr>\n",
       "  </thead>\n",
       "  <tbody>\n",
       "    <tr>\n",
       "      <th>count</th>\n",
       "      <td>7.700000e+01</td>\n",
       "      <td>7.700000e+01</td>\n",
       "      <td>7.700000e+01</td>\n",
       "      <td>7.700000e+01</td>\n",
       "      <td>7.700000e+01</td>\n",
       "      <td>7.700000e+01</td>\n",
       "      <td>7.700000e+01</td>\n",
       "      <td>7.700000e+01</td>\n",
       "      <td>7.700000e+01</td>\n",
       "      <td>7.700000e+01</td>\n",
       "      <td>7.700000e+01</td>\n",
       "    </tr>\n",
       "    <tr>\n",
       "      <th>mean</th>\n",
       "      <td>-1.258012e-16</td>\n",
       "      <td>-4.527403e-16</td>\n",
       "      <td>1.665335e-16</td>\n",
       "      <td>1.013349e-16</td>\n",
       "      <td>1.463476e-16</td>\n",
       "      <td>-4.758099e-17</td>\n",
       "      <td>5.767392e-17</td>\n",
       "      <td>-5.190653e-17</td>\n",
       "      <td>-2.144749e-16</td>\n",
       "      <td>5.190653e-17</td>\n",
       "      <td>-1.982541e-16</td>\n",
       "    </tr>\n",
       "    <tr>\n",
       "      <th>std</th>\n",
       "      <td>1.006557e+00</td>\n",
       "      <td>1.006557e+00</td>\n",
       "      <td>1.006557e+00</td>\n",
       "      <td>1.006557e+00</td>\n",
       "      <td>1.006557e+00</td>\n",
       "      <td>1.006557e+00</td>\n",
       "      <td>1.006557e+00</td>\n",
       "      <td>1.006557e+00</td>\n",
       "      <td>1.006557e+00</td>\n",
       "      <td>1.006557e+00</td>\n",
       "      <td>1.006557e+00</td>\n",
       "    </tr>\n",
       "    <tr>\n",
       "      <th>min</th>\n",
       "      <td>-2.938605e+00</td>\n",
       "      <td>-2.542013e+00</td>\n",
       "      <td>-2.469891e+00</td>\n",
       "      <td>-1.013072e+00</td>\n",
       "      <td>-9.088244e-01</td>\n",
       "      <td>-1.212115e+00</td>\n",
       "      <td>-1.420902e+00</td>\n",
       "      <td>-1.917189e+00</td>\n",
       "      <td>-1.625929e+00</td>\n",
       "      <td>-1.272550e+00</td>\n",
       "      <td>-3.542628e+00</td>\n",
       "    </tr>\n",
       "    <tr>\n",
       "      <th>25%</th>\n",
       "      <td>-3.555846e-01</td>\n",
       "      <td>-7.267769e-01</td>\n",
       "      <td>-6.532825e-01</td>\n",
       "      <td>-1.013072e+00</td>\n",
       "      <td>-4.864980e-01</td>\n",
       "      <td>-7.774919e-01</td>\n",
       "      <td>-5.014948e-01</td>\n",
       "      <td>-3.563056e-01</td>\n",
       "      <td>-9.317120e-01</td>\n",
       "      <td>-1.462701e-01</td>\n",
       "      <td>-1.980675e-01</td>\n",
       "    </tr>\n",
       "    <tr>\n",
       "      <th>50%</th>\n",
       "      <td>1.610194e-01</td>\n",
       "      <td>-4.606439e-16</td>\n",
       "      <td>-3.072619e-01</td>\n",
       "      <td>-1.298811e-02</td>\n",
       "      <td>-6.417167e-02</td>\n",
       "      <td>-1.255577e-01</td>\n",
       "      <td>4.179123e-01</td>\n",
       "      <td>2.440343e-01</td>\n",
       "      <td>-6.089621e-03</td>\n",
       "      <td>-1.462701e-01</td>\n",
       "      <td>-1.980675e-01</td>\n",
       "    </tr>\n",
       "    <tr>\n",
       "      <th>75%</th>\n",
       "      <td>1.610194e-01</td>\n",
       "      <td>5.698204e-01</td>\n",
       "      <td>7.740527e-01</td>\n",
       "      <td>9.870962e-01</td>\n",
       "      <td>3.581547e-01</td>\n",
       "      <td>3.090651e-01</td>\n",
       "      <td>4.179123e-01</td>\n",
       "      <td>6.042382e-01</td>\n",
       "      <td>9.195328e-01</td>\n",
       "      <td>-1.462701e-01</td>\n",
       "      <td>-1.980675e-01</td>\n",
       "    </tr>\n",
       "    <tr>\n",
       "      <th>max</th>\n",
       "      <td>2.744040e+00</td>\n",
       "      <td>2.125737e+00</td>\n",
       "      <td>2.936682e+00</td>\n",
       "      <td>3.987349e+00</td>\n",
       "      <td>5.003745e+00</td>\n",
       "      <td>3.351425e+00</td>\n",
       "      <td>3.176134e+00</td>\n",
       "      <td>1.924986e+00</td>\n",
       "      <td>1.845155e+00</td>\n",
       "      <td>3.232570e+00</td>\n",
       "      <td>3.146493e+00</td>\n",
       "    </tr>\n",
       "  </tbody>\n",
       "</table>\n",
       "</div>"
      ],
      "text/plain": [
       "           calories         carbo          cups           fat         fiber  \\\n",
       "count  7.700000e+01  7.700000e+01  7.700000e+01  7.700000e+01  7.700000e+01   \n",
       "mean  -1.258012e-16 -4.527403e-16  1.665335e-16  1.013349e-16  1.463476e-16   \n",
       "std    1.006557e+00  1.006557e+00  1.006557e+00  1.006557e+00  1.006557e+00   \n",
       "min   -2.938605e+00 -2.542013e+00 -2.469891e+00 -1.013072e+00 -9.088244e-01   \n",
       "25%   -3.555846e-01 -7.267769e-01 -6.532825e-01 -1.013072e+00 -4.864980e-01   \n",
       "50%    1.610194e-01 -4.606439e-16 -3.072619e-01 -1.298811e-02 -6.417167e-02   \n",
       "75%    1.610194e-01  5.698204e-01  7.740527e-01  9.870962e-01  3.581547e-01   \n",
       "max    2.744040e+00  2.125737e+00  2.936682e+00  3.987349e+00  5.003745e+00   \n",
       "\n",
       "             potass       protein        sodium        sugars      vitamins  \\\n",
       "count  7.700000e+01  7.700000e+01  7.700000e+01  7.700000e+01  7.700000e+01   \n",
       "mean  -4.758099e-17  5.767392e-17 -5.190653e-17 -2.144749e-16  5.190653e-17   \n",
       "std    1.006557e+00  1.006557e+00  1.006557e+00  1.006557e+00  1.006557e+00   \n",
       "min   -1.212115e+00 -1.420902e+00 -1.917189e+00 -1.625929e+00 -1.272550e+00   \n",
       "25%   -7.774919e-01 -5.014948e-01 -3.563056e-01 -9.317120e-01 -1.462701e-01   \n",
       "50%   -1.255577e-01  4.179123e-01  2.440343e-01 -6.089621e-03 -1.462701e-01   \n",
       "75%    3.090651e-01  4.179123e-01  6.042382e-01  9.195328e-01 -1.462701e-01   \n",
       "max    3.351425e+00  3.176134e+00  1.924986e+00  1.845155e+00  3.232570e+00   \n",
       "\n",
       "             weight  \n",
       "count  7.700000e+01  \n",
       "mean  -1.982541e-16  \n",
       "std    1.006557e+00  \n",
       "min   -3.542628e+00  \n",
       "25%   -1.980675e-01  \n",
       "50%   -1.980675e-01  \n",
       "75%   -1.980675e-01  \n",
       "max    3.146493e+00  "
      ]
     },
     "execution_count": 13,
     "metadata": {},
     "output_type": "execute_result"
    }
   ],
   "source": [
    "\n",
    "std_cereals.describe()\n"
   ]
  },
  {
   "cell_type": "markdown",
   "metadata": {},
   "source": [
    "#### Note - Clustering is an unsupervised method and hence we are not concerned about train-test split or prediction accuracies."
   ]
  },
  {
   "cell_type": "markdown",
   "metadata": {},
   "source": [
    "## Agglomerative Clustering\n",
    "**Parameter description**\n",
    "\n",
    "n_clusters : The number of clusters to find.\n",
    "\n",
    "\n",
    "linkage : {“ward”, “complete”, “average”}\n",
    "\n",
    "- ward minimizes the variance of the clusters being merged.\n",
    "- complete uses the maximum distances between all observations of the two sets.\n",
    "- average uses the average of the distances of each observation of the two sets.\n",
    "\n",
    "affinity : {“euclidean”, “l1”, “l2”, “manhattan”, “cosine”}\n",
    "\n",
    "- Metric used to compute the linkage."
   ]
  },
  {
   "cell_type": "code",
   "execution_count": 28,
   "metadata": {
    "ExecuteTime": {
     "end_time": "2019-10-12T11:38:16.205242Z",
     "start_time": "2019-10-12T11:38:15.800308Z"
    }
   },
   "outputs": [
    {
     "data": {
      "application/javascript": [
       "/* Put everything inside the global mpl namespace */\n",
       "window.mpl = {};\n",
       "\n",
       "\n",
       "mpl.get_websocket_type = function() {\n",
       "    if (typeof(WebSocket) !== 'undefined') {\n",
       "        return WebSocket;\n",
       "    } else if (typeof(MozWebSocket) !== 'undefined') {\n",
       "        return MozWebSocket;\n",
       "    } else {\n",
       "        alert('Your browser does not have WebSocket support.' +\n",
       "              'Please try Chrome, Safari or Firefox ≥ 6. ' +\n",
       "              'Firefox 4 and 5 are also supported but you ' +\n",
       "              'have to enable WebSockets in about:config.');\n",
       "    };\n",
       "}\n",
       "\n",
       "mpl.figure = function(figure_id, websocket, ondownload, parent_element) {\n",
       "    this.id = figure_id;\n",
       "\n",
       "    this.ws = websocket;\n",
       "\n",
       "    this.supports_binary = (this.ws.binaryType != undefined);\n",
       "\n",
       "    if (!this.supports_binary) {\n",
       "        var warnings = document.getElementById(\"mpl-warnings\");\n",
       "        if (warnings) {\n",
       "            warnings.style.display = 'block';\n",
       "            warnings.textContent = (\n",
       "                \"This browser does not support binary websocket messages. \" +\n",
       "                    \"Performance may be slow.\");\n",
       "        }\n",
       "    }\n",
       "\n",
       "    this.imageObj = new Image();\n",
       "\n",
       "    this.context = undefined;\n",
       "    this.message = undefined;\n",
       "    this.canvas = undefined;\n",
       "    this.rubberband_canvas = undefined;\n",
       "    this.rubberband_context = undefined;\n",
       "    this.format_dropdown = undefined;\n",
       "\n",
       "    this.image_mode = 'full';\n",
       "\n",
       "    this.root = $('<div/>');\n",
       "    this._root_extra_style(this.root)\n",
       "    this.root.attr('style', 'display: inline-block');\n",
       "\n",
       "    $(parent_element).append(this.root);\n",
       "\n",
       "    this._init_header(this);\n",
       "    this._init_canvas(this);\n",
       "    this._init_toolbar(this);\n",
       "\n",
       "    var fig = this;\n",
       "\n",
       "    this.waiting = false;\n",
       "\n",
       "    this.ws.onopen =  function () {\n",
       "            fig.send_message(\"supports_binary\", {value: fig.supports_binary});\n",
       "            fig.send_message(\"send_image_mode\", {});\n",
       "            if (mpl.ratio != 1) {\n",
       "                fig.send_message(\"set_dpi_ratio\", {'dpi_ratio': mpl.ratio});\n",
       "            }\n",
       "            fig.send_message(\"refresh\", {});\n",
       "        }\n",
       "\n",
       "    this.imageObj.onload = function() {\n",
       "            if (fig.image_mode == 'full') {\n",
       "                // Full images could contain transparency (where diff images\n",
       "                // almost always do), so we need to clear the canvas so that\n",
       "                // there is no ghosting.\n",
       "                fig.context.clearRect(0, 0, fig.canvas.width, fig.canvas.height);\n",
       "            }\n",
       "            fig.context.drawImage(fig.imageObj, 0, 0);\n",
       "        };\n",
       "\n",
       "    this.imageObj.onunload = function() {\n",
       "        fig.ws.close();\n",
       "    }\n",
       "\n",
       "    this.ws.onmessage = this._make_on_message_function(this);\n",
       "\n",
       "    this.ondownload = ondownload;\n",
       "}\n",
       "\n",
       "mpl.figure.prototype._init_header = function() {\n",
       "    var titlebar = $(\n",
       "        '<div class=\"ui-dialog-titlebar ui-widget-header ui-corner-all ' +\n",
       "        'ui-helper-clearfix\"/>');\n",
       "    var titletext = $(\n",
       "        '<div class=\"ui-dialog-title\" style=\"width: 100%; ' +\n",
       "        'text-align: center; padding: 3px;\"/>');\n",
       "    titlebar.append(titletext)\n",
       "    this.root.append(titlebar);\n",
       "    this.header = titletext[0];\n",
       "}\n",
       "\n",
       "\n",
       "\n",
       "mpl.figure.prototype._canvas_extra_style = function(canvas_div) {\n",
       "\n",
       "}\n",
       "\n",
       "\n",
       "mpl.figure.prototype._root_extra_style = function(canvas_div) {\n",
       "\n",
       "}\n",
       "\n",
       "mpl.figure.prototype._init_canvas = function() {\n",
       "    var fig = this;\n",
       "\n",
       "    var canvas_div = $('<div/>');\n",
       "\n",
       "    canvas_div.attr('style', 'position: relative; clear: both; outline: 0');\n",
       "\n",
       "    function canvas_keyboard_event(event) {\n",
       "        return fig.key_event(event, event['data']);\n",
       "    }\n",
       "\n",
       "    canvas_div.keydown('key_press', canvas_keyboard_event);\n",
       "    canvas_div.keyup('key_release', canvas_keyboard_event);\n",
       "    this.canvas_div = canvas_div\n",
       "    this._canvas_extra_style(canvas_div)\n",
       "    this.root.append(canvas_div);\n",
       "\n",
       "    var canvas = $('<canvas/>');\n",
       "    canvas.addClass('mpl-canvas');\n",
       "    canvas.attr('style', \"left: 0; top: 0; z-index: 0; outline: 0\")\n",
       "\n",
       "    this.canvas = canvas[0];\n",
       "    this.context = canvas[0].getContext(\"2d\");\n",
       "\n",
       "    var backingStore = this.context.backingStorePixelRatio ||\n",
       "\tthis.context.webkitBackingStorePixelRatio ||\n",
       "\tthis.context.mozBackingStorePixelRatio ||\n",
       "\tthis.context.msBackingStorePixelRatio ||\n",
       "\tthis.context.oBackingStorePixelRatio ||\n",
       "\tthis.context.backingStorePixelRatio || 1;\n",
       "\n",
       "    mpl.ratio = (window.devicePixelRatio || 1) / backingStore;\n",
       "\n",
       "    var rubberband = $('<canvas/>');\n",
       "    rubberband.attr('style', \"position: absolute; left: 0; top: 0; z-index: 1;\")\n",
       "\n",
       "    var pass_mouse_events = true;\n",
       "\n",
       "    canvas_div.resizable({\n",
       "        start: function(event, ui) {\n",
       "            pass_mouse_events = false;\n",
       "        },\n",
       "        resize: function(event, ui) {\n",
       "            fig.request_resize(ui.size.width, ui.size.height);\n",
       "        },\n",
       "        stop: function(event, ui) {\n",
       "            pass_mouse_events = true;\n",
       "            fig.request_resize(ui.size.width, ui.size.height);\n",
       "        },\n",
       "    });\n",
       "\n",
       "    function mouse_event_fn(event) {\n",
       "        if (pass_mouse_events)\n",
       "            return fig.mouse_event(event, event['data']);\n",
       "    }\n",
       "\n",
       "    rubberband.mousedown('button_press', mouse_event_fn);\n",
       "    rubberband.mouseup('button_release', mouse_event_fn);\n",
       "    // Throttle sequential mouse events to 1 every 20ms.\n",
       "    rubberband.mousemove('motion_notify', mouse_event_fn);\n",
       "\n",
       "    rubberband.mouseenter('figure_enter', mouse_event_fn);\n",
       "    rubberband.mouseleave('figure_leave', mouse_event_fn);\n",
       "\n",
       "    canvas_div.on(\"wheel\", function (event) {\n",
       "        event = event.originalEvent;\n",
       "        event['data'] = 'scroll'\n",
       "        if (event.deltaY < 0) {\n",
       "            event.step = 1;\n",
       "        } else {\n",
       "            event.step = -1;\n",
       "        }\n",
       "        mouse_event_fn(event);\n",
       "    });\n",
       "\n",
       "    canvas_div.append(canvas);\n",
       "    canvas_div.append(rubberband);\n",
       "\n",
       "    this.rubberband = rubberband;\n",
       "    this.rubberband_canvas = rubberband[0];\n",
       "    this.rubberband_context = rubberband[0].getContext(\"2d\");\n",
       "    this.rubberband_context.strokeStyle = \"#000000\";\n",
       "\n",
       "    this._resize_canvas = function(width, height) {\n",
       "        // Keep the size of the canvas, canvas container, and rubber band\n",
       "        // canvas in synch.\n",
       "        canvas_div.css('width', width)\n",
       "        canvas_div.css('height', height)\n",
       "\n",
       "        canvas.attr('width', width * mpl.ratio);\n",
       "        canvas.attr('height', height * mpl.ratio);\n",
       "        canvas.attr('style', 'width: ' + width + 'px; height: ' + height + 'px;');\n",
       "\n",
       "        rubberband.attr('width', width);\n",
       "        rubberband.attr('height', height);\n",
       "    }\n",
       "\n",
       "    // Set the figure to an initial 600x600px, this will subsequently be updated\n",
       "    // upon first draw.\n",
       "    this._resize_canvas(600, 600);\n",
       "\n",
       "    // Disable right mouse context menu.\n",
       "    $(this.rubberband_canvas).bind(\"contextmenu\",function(e){\n",
       "        return false;\n",
       "    });\n",
       "\n",
       "    function set_focus () {\n",
       "        canvas.focus();\n",
       "        canvas_div.focus();\n",
       "    }\n",
       "\n",
       "    window.setTimeout(set_focus, 100);\n",
       "}\n",
       "\n",
       "mpl.figure.prototype._init_toolbar = function() {\n",
       "    var fig = this;\n",
       "\n",
       "    var nav_element = $('<div/>')\n",
       "    nav_element.attr('style', 'width: 100%');\n",
       "    this.root.append(nav_element);\n",
       "\n",
       "    // Define a callback function for later on.\n",
       "    function toolbar_event(event) {\n",
       "        return fig.toolbar_button_onclick(event['data']);\n",
       "    }\n",
       "    function toolbar_mouse_event(event) {\n",
       "        return fig.toolbar_button_onmouseover(event['data']);\n",
       "    }\n",
       "\n",
       "    for(var toolbar_ind in mpl.toolbar_items) {\n",
       "        var name = mpl.toolbar_items[toolbar_ind][0];\n",
       "        var tooltip = mpl.toolbar_items[toolbar_ind][1];\n",
       "        var image = mpl.toolbar_items[toolbar_ind][2];\n",
       "        var method_name = mpl.toolbar_items[toolbar_ind][3];\n",
       "\n",
       "        if (!name) {\n",
       "            // put a spacer in here.\n",
       "            continue;\n",
       "        }\n",
       "        var button = $('<button/>');\n",
       "        button.addClass('ui-button ui-widget ui-state-default ui-corner-all ' +\n",
       "                        'ui-button-icon-only');\n",
       "        button.attr('role', 'button');\n",
       "        button.attr('aria-disabled', 'false');\n",
       "        button.click(method_name, toolbar_event);\n",
       "        button.mouseover(tooltip, toolbar_mouse_event);\n",
       "\n",
       "        var icon_img = $('<span/>');\n",
       "        icon_img.addClass('ui-button-icon-primary ui-icon');\n",
       "        icon_img.addClass(image);\n",
       "        icon_img.addClass('ui-corner-all');\n",
       "\n",
       "        var tooltip_span = $('<span/>');\n",
       "        tooltip_span.addClass('ui-button-text');\n",
       "        tooltip_span.html(tooltip);\n",
       "\n",
       "        button.append(icon_img);\n",
       "        button.append(tooltip_span);\n",
       "\n",
       "        nav_element.append(button);\n",
       "    }\n",
       "\n",
       "    var fmt_picker_span = $('<span/>');\n",
       "\n",
       "    var fmt_picker = $('<select/>');\n",
       "    fmt_picker.addClass('mpl-toolbar-option ui-widget ui-widget-content');\n",
       "    fmt_picker_span.append(fmt_picker);\n",
       "    nav_element.append(fmt_picker_span);\n",
       "    this.format_dropdown = fmt_picker[0];\n",
       "\n",
       "    for (var ind in mpl.extensions) {\n",
       "        var fmt = mpl.extensions[ind];\n",
       "        var option = $(\n",
       "            '<option/>', {selected: fmt === mpl.default_extension}).html(fmt);\n",
       "        fmt_picker.append(option)\n",
       "    }\n",
       "\n",
       "    // Add hover states to the ui-buttons\n",
       "    $( \".ui-button\" ).hover(\n",
       "        function() { $(this).addClass(\"ui-state-hover\");},\n",
       "        function() { $(this).removeClass(\"ui-state-hover\");}\n",
       "    );\n",
       "\n",
       "    var status_bar = $('<span class=\"mpl-message\"/>');\n",
       "    nav_element.append(status_bar);\n",
       "    this.message = status_bar[0];\n",
       "}\n",
       "\n",
       "mpl.figure.prototype.request_resize = function(x_pixels, y_pixels) {\n",
       "    // Request matplotlib to resize the figure. Matplotlib will then trigger a resize in the client,\n",
       "    // which will in turn request a refresh of the image.\n",
       "    this.send_message('resize', {'width': x_pixels, 'height': y_pixels});\n",
       "}\n",
       "\n",
       "mpl.figure.prototype.send_message = function(type, properties) {\n",
       "    properties['type'] = type;\n",
       "    properties['figure_id'] = this.id;\n",
       "    this.ws.send(JSON.stringify(properties));\n",
       "}\n",
       "\n",
       "mpl.figure.prototype.send_draw_message = function() {\n",
       "    if (!this.waiting) {\n",
       "        this.waiting = true;\n",
       "        this.ws.send(JSON.stringify({type: \"draw\", figure_id: this.id}));\n",
       "    }\n",
       "}\n",
       "\n",
       "\n",
       "mpl.figure.prototype.handle_save = function(fig, msg) {\n",
       "    var format_dropdown = fig.format_dropdown;\n",
       "    var format = format_dropdown.options[format_dropdown.selectedIndex].value;\n",
       "    fig.ondownload(fig, format);\n",
       "}\n",
       "\n",
       "\n",
       "mpl.figure.prototype.handle_resize = function(fig, msg) {\n",
       "    var size = msg['size'];\n",
       "    if (size[0] != fig.canvas.width || size[1] != fig.canvas.height) {\n",
       "        fig._resize_canvas(size[0], size[1]);\n",
       "        fig.send_message(\"refresh\", {});\n",
       "    };\n",
       "}\n",
       "\n",
       "mpl.figure.prototype.handle_rubberband = function(fig, msg) {\n",
       "    var x0 = msg['x0'] / mpl.ratio;\n",
       "    var y0 = (fig.canvas.height - msg['y0']) / mpl.ratio;\n",
       "    var x1 = msg['x1'] / mpl.ratio;\n",
       "    var y1 = (fig.canvas.height - msg['y1']) / mpl.ratio;\n",
       "    x0 = Math.floor(x0) + 0.5;\n",
       "    y0 = Math.floor(y0) + 0.5;\n",
       "    x1 = Math.floor(x1) + 0.5;\n",
       "    y1 = Math.floor(y1) + 0.5;\n",
       "    var min_x = Math.min(x0, x1);\n",
       "    var min_y = Math.min(y0, y1);\n",
       "    var width = Math.abs(x1 - x0);\n",
       "    var height = Math.abs(y1 - y0);\n",
       "\n",
       "    fig.rubberband_context.clearRect(\n",
       "        0, 0, fig.canvas.width, fig.canvas.height);\n",
       "\n",
       "    fig.rubberband_context.strokeRect(min_x, min_y, width, height);\n",
       "}\n",
       "\n",
       "mpl.figure.prototype.handle_figure_label = function(fig, msg) {\n",
       "    // Updates the figure title.\n",
       "    fig.header.textContent = msg['label'];\n",
       "}\n",
       "\n",
       "mpl.figure.prototype.handle_cursor = function(fig, msg) {\n",
       "    var cursor = msg['cursor'];\n",
       "    switch(cursor)\n",
       "    {\n",
       "    case 0:\n",
       "        cursor = 'pointer';\n",
       "        break;\n",
       "    case 1:\n",
       "        cursor = 'default';\n",
       "        break;\n",
       "    case 2:\n",
       "        cursor = 'crosshair';\n",
       "        break;\n",
       "    case 3:\n",
       "        cursor = 'move';\n",
       "        break;\n",
       "    }\n",
       "    fig.rubberband_canvas.style.cursor = cursor;\n",
       "}\n",
       "\n",
       "mpl.figure.prototype.handle_message = function(fig, msg) {\n",
       "    fig.message.textContent = msg['message'];\n",
       "}\n",
       "\n",
       "mpl.figure.prototype.handle_draw = function(fig, msg) {\n",
       "    // Request the server to send over a new figure.\n",
       "    fig.send_draw_message();\n",
       "}\n",
       "\n",
       "mpl.figure.prototype.handle_image_mode = function(fig, msg) {\n",
       "    fig.image_mode = msg['mode'];\n",
       "}\n",
       "\n",
       "mpl.figure.prototype.updated_canvas_event = function() {\n",
       "    // Called whenever the canvas gets updated.\n",
       "    this.send_message(\"ack\", {});\n",
       "}\n",
       "\n",
       "// A function to construct a web socket function for onmessage handling.\n",
       "// Called in the figure constructor.\n",
       "mpl.figure.prototype._make_on_message_function = function(fig) {\n",
       "    return function socket_on_message(evt) {\n",
       "        if (evt.data instanceof Blob) {\n",
       "            /* FIXME: We get \"Resource interpreted as Image but\n",
       "             * transferred with MIME type text/plain:\" errors on\n",
       "             * Chrome.  But how to set the MIME type?  It doesn't seem\n",
       "             * to be part of the websocket stream */\n",
       "            evt.data.type = \"image/png\";\n",
       "\n",
       "            /* Free the memory for the previous frames */\n",
       "            if (fig.imageObj.src) {\n",
       "                (window.URL || window.webkitURL).revokeObjectURL(\n",
       "                    fig.imageObj.src);\n",
       "            }\n",
       "\n",
       "            fig.imageObj.src = (window.URL || window.webkitURL).createObjectURL(\n",
       "                evt.data);\n",
       "            fig.updated_canvas_event();\n",
       "            fig.waiting = false;\n",
       "            return;\n",
       "        }\n",
       "        else if (typeof evt.data === 'string' && evt.data.slice(0, 21) == \"data:image/png;base64\") {\n",
       "            fig.imageObj.src = evt.data;\n",
       "            fig.updated_canvas_event();\n",
       "            fig.waiting = false;\n",
       "            return;\n",
       "        }\n",
       "\n",
       "        var msg = JSON.parse(evt.data);\n",
       "        var msg_type = msg['type'];\n",
       "\n",
       "        // Call the  \"handle_{type}\" callback, which takes\n",
       "        // the figure and JSON message as its only arguments.\n",
       "        try {\n",
       "            var callback = fig[\"handle_\" + msg_type];\n",
       "        } catch (e) {\n",
       "            console.log(\"No handler for the '\" + msg_type + \"' message type: \", msg);\n",
       "            return;\n",
       "        }\n",
       "\n",
       "        if (callback) {\n",
       "            try {\n",
       "                // console.log(\"Handling '\" + msg_type + \"' message: \", msg);\n",
       "                callback(fig, msg);\n",
       "            } catch (e) {\n",
       "                console.log(\"Exception inside the 'handler_\" + msg_type + \"' callback:\", e, e.stack, msg);\n",
       "            }\n",
       "        }\n",
       "    };\n",
       "}\n",
       "\n",
       "// from http://stackoverflow.com/questions/1114465/getting-mouse-location-in-canvas\n",
       "mpl.findpos = function(e) {\n",
       "    //this section is from http://www.quirksmode.org/js/events_properties.html\n",
       "    var targ;\n",
       "    if (!e)\n",
       "        e = window.event;\n",
       "    if (e.target)\n",
       "        targ = e.target;\n",
       "    else if (e.srcElement)\n",
       "        targ = e.srcElement;\n",
       "    if (targ.nodeType == 3) // defeat Safari bug\n",
       "        targ = targ.parentNode;\n",
       "\n",
       "    // jQuery normalizes the pageX and pageY\n",
       "    // pageX,Y are the mouse positions relative to the document\n",
       "    // offset() returns the position of the element relative to the document\n",
       "    var x = e.pageX - $(targ).offset().left;\n",
       "    var y = e.pageY - $(targ).offset().top;\n",
       "\n",
       "    return {\"x\": x, \"y\": y};\n",
       "};\n",
       "\n",
       "/*\n",
       " * return a copy of an object with only non-object keys\n",
       " * we need this to avoid circular references\n",
       " * http://stackoverflow.com/a/24161582/3208463\n",
       " */\n",
       "function simpleKeys (original) {\n",
       "  return Object.keys(original).reduce(function (obj, key) {\n",
       "    if (typeof original[key] !== 'object')\n",
       "        obj[key] = original[key]\n",
       "    return obj;\n",
       "  }, {});\n",
       "}\n",
       "\n",
       "mpl.figure.prototype.mouse_event = function(event, name) {\n",
       "    var canvas_pos = mpl.findpos(event)\n",
       "\n",
       "    if (name === 'button_press')\n",
       "    {\n",
       "        this.canvas.focus();\n",
       "        this.canvas_div.focus();\n",
       "    }\n",
       "\n",
       "    var x = canvas_pos.x * mpl.ratio;\n",
       "    var y = canvas_pos.y * mpl.ratio;\n",
       "\n",
       "    this.send_message(name, {x: x, y: y, button: event.button,\n",
       "                             step: event.step,\n",
       "                             guiEvent: simpleKeys(event)});\n",
       "\n",
       "    /* This prevents the web browser from automatically changing to\n",
       "     * the text insertion cursor when the button is pressed.  We want\n",
       "     * to control all of the cursor setting manually through the\n",
       "     * 'cursor' event from matplotlib */\n",
       "    event.preventDefault();\n",
       "    return false;\n",
       "}\n",
       "\n",
       "mpl.figure.prototype._key_event_extra = function(event, name) {\n",
       "    // Handle any extra behaviour associated with a key event\n",
       "}\n",
       "\n",
       "mpl.figure.prototype.key_event = function(event, name) {\n",
       "\n",
       "    // Prevent repeat events\n",
       "    if (name == 'key_press')\n",
       "    {\n",
       "        if (event.which === this._key)\n",
       "            return;\n",
       "        else\n",
       "            this._key = event.which;\n",
       "    }\n",
       "    if (name == 'key_release')\n",
       "        this._key = null;\n",
       "\n",
       "    var value = '';\n",
       "    if (event.ctrlKey && event.which != 17)\n",
       "        value += \"ctrl+\";\n",
       "    if (event.altKey && event.which != 18)\n",
       "        value += \"alt+\";\n",
       "    if (event.shiftKey && event.which != 16)\n",
       "        value += \"shift+\";\n",
       "\n",
       "    value += 'k';\n",
       "    value += event.which.toString();\n",
       "\n",
       "    this._key_event_extra(event, name);\n",
       "\n",
       "    this.send_message(name, {key: value,\n",
       "                             guiEvent: simpleKeys(event)});\n",
       "    return false;\n",
       "}\n",
       "\n",
       "mpl.figure.prototype.toolbar_button_onclick = function(name) {\n",
       "    if (name == 'download') {\n",
       "        this.handle_save(this, null);\n",
       "    } else {\n",
       "        this.send_message(\"toolbar_button\", {name: name});\n",
       "    }\n",
       "};\n",
       "\n",
       "mpl.figure.prototype.toolbar_button_onmouseover = function(tooltip) {\n",
       "    this.message.textContent = tooltip;\n",
       "};\n",
       "mpl.toolbar_items = [[\"Home\", \"Reset original view\", \"fa fa-home icon-home\", \"home\"], [\"Back\", \"Back to previous view\", \"fa fa-arrow-left icon-arrow-left\", \"back\"], [\"Forward\", \"Forward to next view\", \"fa fa-arrow-right icon-arrow-right\", \"forward\"], [\"\", \"\", \"\", \"\"], [\"Pan\", \"Pan axes with left mouse, zoom with right\", \"fa fa-arrows icon-move\", \"pan\"], [\"Zoom\", \"Zoom to rectangle\", \"fa fa-square-o icon-check-empty\", \"zoom\"], [\"\", \"\", \"\", \"\"], [\"Download\", \"Download plot\", \"fa fa-floppy-o icon-save\", \"download\"]];\n",
       "\n",
       "mpl.extensions = [\"eps\", \"jpeg\", \"pdf\", \"png\", \"ps\", \"raw\", \"svg\", \"tif\"];\n",
       "\n",
       "mpl.default_extension = \"png\";var comm_websocket_adapter = function(comm) {\n",
       "    // Create a \"websocket\"-like object which calls the given IPython comm\n",
       "    // object with the appropriate methods. Currently this is a non binary\n",
       "    // socket, so there is still some room for performance tuning.\n",
       "    var ws = {};\n",
       "\n",
       "    ws.close = function() {\n",
       "        comm.close()\n",
       "    };\n",
       "    ws.send = function(m) {\n",
       "        //console.log('sending', m);\n",
       "        comm.send(m);\n",
       "    };\n",
       "    // Register the callback with on_msg.\n",
       "    comm.on_msg(function(msg) {\n",
       "        //console.log('receiving', msg['content']['data'], msg);\n",
       "        // Pass the mpl event to the overridden (by mpl) onmessage function.\n",
       "        ws.onmessage(msg['content']['data'])\n",
       "    });\n",
       "    return ws;\n",
       "}\n",
       "\n",
       "mpl.mpl_figure_comm = function(comm, msg) {\n",
       "    // This is the function which gets called when the mpl process\n",
       "    // starts-up an IPython Comm through the \"matplotlib\" channel.\n",
       "\n",
       "    var id = msg.content.data.id;\n",
       "    // Get hold of the div created by the display call when the Comm\n",
       "    // socket was opened in Python.\n",
       "    var element = $(\"#\" + id);\n",
       "    var ws_proxy = comm_websocket_adapter(comm)\n",
       "\n",
       "    function ondownload(figure, format) {\n",
       "        window.open(figure.imageObj.src);\n",
       "    }\n",
       "\n",
       "    var fig = new mpl.figure(id, ws_proxy,\n",
       "                           ondownload,\n",
       "                           element.get(0));\n",
       "\n",
       "    // Call onopen now - mpl needs it, as it is assuming we've passed it a real\n",
       "    // web socket which is closed, not our websocket->open comm proxy.\n",
       "    ws_proxy.onopen();\n",
       "\n",
       "    fig.parent_element = element.get(0);\n",
       "    fig.cell_info = mpl.find_output_cell(\"<div id='\" + id + \"'></div>\");\n",
       "    if (!fig.cell_info) {\n",
       "        console.error(\"Failed to find cell for figure\", id, fig);\n",
       "        return;\n",
       "    }\n",
       "\n",
       "    var output_index = fig.cell_info[2]\n",
       "    var cell = fig.cell_info[0];\n",
       "\n",
       "};\n",
       "\n",
       "mpl.figure.prototype.handle_close = function(fig, msg) {\n",
       "    var width = fig.canvas.width/mpl.ratio\n",
       "    fig.root.unbind('remove')\n",
       "\n",
       "    // Update the output cell to use the data from the current canvas.\n",
       "    fig.push_to_output();\n",
       "    var dataURL = fig.canvas.toDataURL();\n",
       "    // Re-enable the keyboard manager in IPython - without this line, in FF,\n",
       "    // the notebook keyboard shortcuts fail.\n",
       "    IPython.keyboard_manager.enable()\n",
       "    $(fig.parent_element).html('<img src=\"' + dataURL + '\" width=\"' + width + '\">');\n",
       "    fig.close_ws(fig, msg);\n",
       "}\n",
       "\n",
       "mpl.figure.prototype.close_ws = function(fig, msg){\n",
       "    fig.send_message('closing', msg);\n",
       "    // fig.ws.close()\n",
       "}\n",
       "\n",
       "mpl.figure.prototype.push_to_output = function(remove_interactive) {\n",
       "    // Turn the data on the canvas into data in the output cell.\n",
       "    var width = this.canvas.width/mpl.ratio\n",
       "    var dataURL = this.canvas.toDataURL();\n",
       "    this.cell_info[1]['text/html'] = '<img src=\"' + dataURL + '\" width=\"' + width + '\">';\n",
       "}\n",
       "\n",
       "mpl.figure.prototype.updated_canvas_event = function() {\n",
       "    // Tell IPython that the notebook contents must change.\n",
       "    IPython.notebook.set_dirty(true);\n",
       "    this.send_message(\"ack\", {});\n",
       "    var fig = this;\n",
       "    // Wait a second, then push the new image to the DOM so\n",
       "    // that it is saved nicely (might be nice to debounce this).\n",
       "    setTimeout(function () { fig.push_to_output() }, 1000);\n",
       "}\n",
       "\n",
       "mpl.figure.prototype._init_toolbar = function() {\n",
       "    var fig = this;\n",
       "\n",
       "    var nav_element = $('<div/>')\n",
       "    nav_element.attr('style', 'width: 100%');\n",
       "    this.root.append(nav_element);\n",
       "\n",
       "    // Define a callback function for later on.\n",
       "    function toolbar_event(event) {\n",
       "        return fig.toolbar_button_onclick(event['data']);\n",
       "    }\n",
       "    function toolbar_mouse_event(event) {\n",
       "        return fig.toolbar_button_onmouseover(event['data']);\n",
       "    }\n",
       "\n",
       "    for(var toolbar_ind in mpl.toolbar_items){\n",
       "        var name = mpl.toolbar_items[toolbar_ind][0];\n",
       "        var tooltip = mpl.toolbar_items[toolbar_ind][1];\n",
       "        var image = mpl.toolbar_items[toolbar_ind][2];\n",
       "        var method_name = mpl.toolbar_items[toolbar_ind][3];\n",
       "\n",
       "        if (!name) { continue; };\n",
       "\n",
       "        var button = $('<button class=\"btn btn-default\" href=\"#\" title=\"' + name + '\"><i class=\"fa ' + image + ' fa-lg\"></i></button>');\n",
       "        button.click(method_name, toolbar_event);\n",
       "        button.mouseover(tooltip, toolbar_mouse_event);\n",
       "        nav_element.append(button);\n",
       "    }\n",
       "\n",
       "    // Add the status bar.\n",
       "    var status_bar = $('<span class=\"mpl-message\" style=\"text-align:right; float: right;\"/>');\n",
       "    nav_element.append(status_bar);\n",
       "    this.message = status_bar[0];\n",
       "\n",
       "    // Add the close button to the window.\n",
       "    var buttongrp = $('<div class=\"btn-group inline pull-right\"></div>');\n",
       "    var button = $('<button class=\"btn btn-mini btn-primary\" href=\"#\" title=\"Stop Interaction\"><i class=\"fa fa-power-off icon-remove icon-large\"></i></button>');\n",
       "    button.click(function (evt) { fig.handle_close(fig, {}); } );\n",
       "    button.mouseover('Stop Interaction', toolbar_mouse_event);\n",
       "    buttongrp.append(button);\n",
       "    var titlebar = this.root.find($('.ui-dialog-titlebar'));\n",
       "    titlebar.prepend(buttongrp);\n",
       "}\n",
       "\n",
       "mpl.figure.prototype._root_extra_style = function(el){\n",
       "    var fig = this\n",
       "    el.on(\"remove\", function(){\n",
       "\tfig.close_ws(fig, {});\n",
       "    });\n",
       "}\n",
       "\n",
       "mpl.figure.prototype._canvas_extra_style = function(el){\n",
       "    // this is important to make the div 'focusable\n",
       "    el.attr('tabindex', 0)\n",
       "    // reach out to IPython and tell the keyboard manager to turn it's self\n",
       "    // off when our div gets focus\n",
       "\n",
       "    // location in version 3\n",
       "    if (IPython.notebook.keyboard_manager) {\n",
       "        IPython.notebook.keyboard_manager.register_events(el);\n",
       "    }\n",
       "    else {\n",
       "        // location in version 2\n",
       "        IPython.keyboard_manager.register_events(el);\n",
       "    }\n",
       "\n",
       "}\n",
       "\n",
       "mpl.figure.prototype._key_event_extra = function(event, name) {\n",
       "    var manager = IPython.notebook.keyboard_manager;\n",
       "    if (!manager)\n",
       "        manager = IPython.keyboard_manager;\n",
       "\n",
       "    // Check for shift+enter\n",
       "    if (event.shiftKey && event.which == 13) {\n",
       "        this.canvas_div.blur();\n",
       "        event.shiftKey = false;\n",
       "        // Send a \"J\" for go to next cell\n",
       "        event.which = 74;\n",
       "        event.keyCode = 74;\n",
       "        manager.command_mode();\n",
       "        manager.handle_keydown(event);\n",
       "    }\n",
       "}\n",
       "\n",
       "mpl.figure.prototype.handle_save = function(fig, msg) {\n",
       "    fig.ondownload(fig, null);\n",
       "}\n",
       "\n",
       "\n",
       "mpl.find_output_cell = function(html_output) {\n",
       "    // Return the cell and output element which can be found *uniquely* in the notebook.\n",
       "    // Note - this is a bit hacky, but it is done because the \"notebook_saving.Notebook\"\n",
       "    // IPython event is triggered only after the cells have been serialised, which for\n",
       "    // our purposes (turning an active figure into a static one), is too late.\n",
       "    var cells = IPython.notebook.get_cells();\n",
       "    var ncells = cells.length;\n",
       "    for (var i=0; i<ncells; i++) {\n",
       "        var cell = cells[i];\n",
       "        if (cell.cell_type === 'code'){\n",
       "            for (var j=0; j<cell.output_area.outputs.length; j++) {\n",
       "                var data = cell.output_area.outputs[j];\n",
       "                if (data.data) {\n",
       "                    // IPython >= 3 moved mimebundle to data attribute of output\n",
       "                    data = data.data;\n",
       "                }\n",
       "                if (data['text/html'] == html_output) {\n",
       "                    return [cell, data, j];\n",
       "                }\n",
       "            }\n",
       "        }\n",
       "    }\n",
       "}\n",
       "\n",
       "// Register the function which deals with the matplotlib target/channel.\n",
       "// The kernel may be null if the page has been refreshed.\n",
       "if (IPython.notebook.kernel != null) {\n",
       "    IPython.notebook.kernel.comm_manager.register_target('matplotlib', mpl.mpl_figure_comm);\n",
       "}\n"
      ],
      "text/plain": [
       "<IPython.core.display.Javascript object>"
      ]
     },
     "metadata": {},
     "output_type": "display_data"
    },
    {
     "data": {
      "text/html": [
       "<img src=\"data:image/png;base64,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\" width=\"640\">"
      ],
      "text/plain": [
       "<IPython.core.display.HTML object>"
      ]
     },
     "metadata": {},
     "output_type": "display_data"
    }
   ],
   "source": [
    "# loading the models \n",
    "from scipy.cluster.hierarchy import linkage,dendrogram\n",
    "import matplotlib.pyplot as plt\n",
    "%matplotlib notebook\n",
    "# Preparing linkage matrix\n",
    "linkage_matrix = linkage(std_cereals, method='ward',metric='euclidean')\n",
    "##plotting\n",
    "dendrogram(linkage_matrix,labels=cereals_label.as_matrix())\n",
    "plt.tight_layout()\n",
    "plt.show()"
   ]
  },
  {
   "cell_type": "code",
   "execution_count": 15,
   "metadata": {
    "ExecuteTime": {
     "end_time": "2019-10-12T11:35:28.889182Z",
     "start_time": "2019-10-12T11:35:28.873876Z"
    }
   },
   "outputs": [
    {
     "data": {
      "text/plain": [
       "array([[ 14.        ,  18.        ,   0.14487426,   2.        ],\n",
       "       [ 15.        ,  62.        ,   0.18816182,   2.        ],\n",
       "       [ 64.        ,  65.        ,   0.57407348,   2.        ],\n",
       "       [ 44.        ,  45.        ,   0.6603739 ,   2.        ],\n",
       "       [ 16.        ,  78.        ,   0.87550797,   3.        ],\n",
       "       [ 48.        ,  76.        ,   0.88551413,   2.        ],\n",
       "       [ 73.        ,  77.        ,   0.9007893 ,   3.        ],\n",
       "       [ 24.        ,  42.        ,   0.93082052,   2.        ],\n",
       "       [ 13.        ,  59.        ,   1.02098928,   2.        ],\n",
       "       [ 21.        ,  81.        ,   1.08586587,   4.        ],\n",
       "       [ 52.        ,  58.        ,   1.10266673,   2.        ],\n",
       "       [  4.        ,   5.        ,   1.14573093,   2.        ],\n",
       "       [ 32.        ,  75.        ,   1.18437314,   2.        ],\n",
       "       [ 10.        ,  35.        ,   1.19253426,   2.        ],\n",
       "       [  7.        ,  49.        ,   1.19459229,   2.        ],\n",
       "       [  6.        ,  17.        ,   1.23534547,   2.        ],\n",
       "       [ 54.        ,  55.        ,   1.37331643,   2.        ],\n",
       "       [ 41.        ,  56.        ,   1.3745811 ,   2.        ],\n",
       "       [ 25.        ,  29.        ,   1.38145319,   2.        ],\n",
       "       [ 38.        ,  69.        ,   1.4132117 ,   2.        ],\n",
       "       [ 30.        ,  66.        ,   1.45624833,   2.        ],\n",
       "       [  8.        ,  74.        ,   1.48061049,   2.        ],\n",
       "       [ 26.        ,  68.        ,   1.48167797,   2.        ],\n",
       "       [ 47.        ,  89.        ,   1.52519818,   3.        ],\n",
       "       [ 83.        ,  84.        ,   1.52904711,   5.        ],\n",
       "       [ 12.        ,  90.        ,   1.53129897,   3.        ],\n",
       "       [ 61.        ,  86.        ,   1.56677647,   5.        ],\n",
       "       [ 31.        ,  82.        ,   1.65874524,   3.        ],\n",
       "       [ 19.        ,  85.        ,   1.68427872,   3.        ],\n",
       "       [ 23.        ,  72.        ,   1.69344714,   2.        ],\n",
       "       [ 22.        ,  88.        ,   1.69446264,   3.        ],\n",
       "       [ 28.        ,  87.        ,   1.7172584 ,   3.        ],\n",
       "       [  0.        ,   2.        ,   1.80916263,   2.        ],\n",
       "       [ 50.        , 100.        ,   1.81779722,   4.        ],\n",
       "       [ 36.        , 107.        ,   1.81916403,   4.        ],\n",
       "       [ 92.        ,  97.        ,   2.05122826,   4.        ],\n",
       "       [  9.        ,  98.        ,   2.10718597,   3.        ],\n",
       "       [ 27.        ,  51.        ,   2.12165737,   2.        ],\n",
       "       [ 95.        , 104.        ,   2.13160516,   5.        ],\n",
       "       [ 60.        ,  99.        ,   2.16696705,   3.        ],\n",
       "       [ 34.        , 105.        ,   2.17432415,   4.        ],\n",
       "       [ 71.        ,  96.        ,   2.25238894,   3.        ],\n",
       "       [ 37.        , 101.        ,   2.4709473 ,   6.        ],\n",
       "       [ 20.        ,  79.        ,   2.50304435,   3.        ],\n",
       "       [ 53.        , 118.        ,   2.56538205,   4.        ],\n",
       "       [ 11.        ,  67.        ,   2.58329591,   2.        ],\n",
       "       [ 63.        , 120.        ,   2.69532065,   4.        ],\n",
       "       [ 43.        ,  57.        ,   2.73189208,   2.        ],\n",
       "       [ 94.        , 117.        ,   2.76291158,   6.        ],\n",
       "       [103.        , 106.        ,   2.82528015,   7.        ],\n",
       "       [ 46.        ,  91.        ,   2.85420732,   3.        ],\n",
       "       [ 33.        , 113.        ,   3.01089221,   4.        ],\n",
       "       [ 39.        ,  70.        ,   3.25194715,   2.        ],\n",
       "       [112.        , 119.        ,   3.27156964,  10.        ],\n",
       "       [114.        , 127.        ,   3.36186753,   5.        ],\n",
       "       [ 40.        , 126.        ,   3.38243021,   8.        ],\n",
       "       [111.        , 115.        ,   3.39103411,   9.        ],\n",
       "       [  3.        , 109.        ,   3.41251552,   3.        ],\n",
       "       [102.        , 133.        ,   3.52678578,  12.        ],\n",
       "       [110.        , 128.        ,   3.83878519,   8.        ],\n",
       "       [116.        , 123.        ,   4.0883257 ,   7.        ],\n",
       "       [124.        , 137.        ,   4.50615338,   9.        ],\n",
       "       [  1.        ,  80.        ,   4.53189914,   3.        ],\n",
       "       [108.        , 131.        ,   4.97093871,   8.        ],\n",
       "       [130.        , 135.        ,   5.85700572,  22.        ],\n",
       "       [125.        , 136.        ,   6.47109754,  14.        ],\n",
       "       [129.        , 140.        ,   6.58566205,  10.        ],\n",
       "       [122.        , 142.        ,   7.20143518,  16.        ],\n",
       "       [121.        , 132.        ,   8.28412127,  12.        ],\n",
       "       [138.        , 144.        ,   8.51247236,  25.        ],\n",
       "       [139.        , 143.        ,   8.56030214,  13.        ],\n",
       "       [ 93.        , 146.        ,  10.30698907,  27.        ],\n",
       "       [141.        , 145.        ,  12.83842352,  34.        ],\n",
       "       [134.        , 148.        ,  13.47476802,  30.        ],\n",
       "       [147.        , 149.        ,  15.53672858,  47.        ],\n",
       "       [150.        , 151.        ,  16.42646196,  77.        ]])"
      ]
     },
     "execution_count": 15,
     "metadata": {},
     "output_type": "execute_result"
    }
   ],
   "source": [
    "\n",
    "linkage_matrix"
   ]
  },
  {
   "cell_type": "code",
   "execution_count": 16,
   "metadata": {
    "ExecuteTime": {
     "end_time": "2019-10-12T11:35:29.225839Z",
     "start_time": "2019-10-12T11:35:28.893162Z"
    }
   },
   "outputs": [
    {
     "data": {
      "text/plain": [
       "2    25\n",
       "4    22\n",
       "0    13\n",
       "1    12\n",
       "3     3\n",
       "5     2\n",
       "Name: agg_cluster, dtype: int64"
      ]
     },
     "execution_count": 16,
     "metadata": {},
     "output_type": "execute_result"
    }
   ],
   "source": [
    "from sklearn.cluster import AgglomerativeClustering\n",
    "## Instantiating object\n",
    "agg_clust = AgglomerativeClustering(n_clusters=6,\n",
    "                                    affinity=\"euclidean\",\n",
    "                                    linkage = \"ward\")\n",
    "## Training model and return class labels\n",
    "agg_clusters = agg_clust.fit_predict(std_cereals)\n",
    "## Label - Cluster\n",
    "agg_result = pd.DataFrame({\"labels\":cereals_label,\n",
    "                           \"agg_cluster\":agg_clusters\n",
    "                          }).sort_values(\"agg_cluster\")\n",
    "agg_result.agg_cluster.value_counts()\n",
    "#agg_result.head()"
   ]
  },
  {
   "cell_type": "code",
   "execution_count": 17,
   "metadata": {
    "ExecuteTime": {
     "end_time": "2019-10-12T11:35:29.257490Z",
     "start_time": "2019-10-12T11:35:29.233612Z"
    }
   },
   "outputs": [
    {
     "data": {
      "text/html": [
       "<div>\n",
       "<style scoped>\n",
       "    .dataframe tbody tr th:only-of-type {\n",
       "        vertical-align: middle;\n",
       "    }\n",
       "\n",
       "    .dataframe tbody tr th {\n",
       "        vertical-align: top;\n",
       "    }\n",
       "\n",
       "    .dataframe thead th {\n",
       "        text-align: right;\n",
       "    }\n",
       "</style>\n",
       "<table border=\"1\" class=\"dataframe\">\n",
       "  <thead>\n",
       "    <tr style=\"text-align: right;\">\n",
       "      <th></th>\n",
       "      <th>labels</th>\n",
       "      <th>agg_cluster</th>\n",
       "    </tr>\n",
       "  </thead>\n",
       "  <tbody>\n",
       "    <tr>\n",
       "      <th>49</th>\n",
       "      <td>Nutri-Grain_Almond-Raisin (3 - 40.69)</td>\n",
       "      <td>0</td>\n",
       "    </tr>\n",
       "    <tr>\n",
       "      <th>1</th>\n",
       "      <td>100%_Natural_Bran (3 - 33.98)</td>\n",
       "      <td>0</td>\n",
       "    </tr>\n",
       "    <tr>\n",
       "      <th>46</th>\n",
       "      <td>Mueslix_Crispy_Blend (3 - 30.31)</td>\n",
       "      <td>0</td>\n",
       "    </tr>\n",
       "    <tr>\n",
       "      <th>45</th>\n",
       "      <td>Muesli_Raisins,_Peaches,_&amp;_Pecans (3 - 34.14)</td>\n",
       "      <td>0</td>\n",
       "    </tr>\n",
       "    <tr>\n",
       "      <th>44</th>\n",
       "      <td>Muesli_Raisins,_Dates,_&amp;_Almonds (3 - 37.14)</td>\n",
       "      <td>0</td>\n",
       "    </tr>\n",
       "    <tr>\n",
       "      <th>70</th>\n",
       "      <td>Total_Raisin_Bran (3 - 28.59)</td>\n",
       "      <td>0</td>\n",
       "    </tr>\n",
       "    <tr>\n",
       "      <th>51</th>\n",
       "      <td>Oatmeal_Raisin_Crisp (3 - 30.45)</td>\n",
       "      <td>0</td>\n",
       "    </tr>\n",
       "    <tr>\n",
       "      <th>7</th>\n",
       "      <td>Basic_4 (3 - 37.04)</td>\n",
       "      <td>0</td>\n",
       "    </tr>\n",
       "    <tr>\n",
       "      <th>39</th>\n",
       "      <td>Just_Right_Fruit_&amp;_Nut (3 - 36.47)</td>\n",
       "      <td>0</td>\n",
       "    </tr>\n",
       "    <tr>\n",
       "      <th>52</th>\n",
       "      <td>Post_Nat._Raisin_Bran (3 - 37.84)</td>\n",
       "      <td>0</td>\n",
       "    </tr>\n",
       "    <tr>\n",
       "      <th>27</th>\n",
       "      <td>Fruit_&amp;_Fibre_Dates,_Walnuts,_and_Oats (3 - 40...</td>\n",
       "      <td>0</td>\n",
       "    </tr>\n",
       "    <tr>\n",
       "      <th>58</th>\n",
       "      <td>Raisin_Bran (2 - 39.26)</td>\n",
       "      <td>0</td>\n",
       "    </tr>\n",
       "    <tr>\n",
       "      <th>28</th>\n",
       "      <td>Fruitful_Bran (3 - 41.02)</td>\n",
       "      <td>0</td>\n",
       "    </tr>\n",
       "    <tr>\n",
       "      <th>23</th>\n",
       "      <td>Double_Chex (3 - 44.33)</td>\n",
       "      <td>1</td>\n",
       "    </tr>\n",
       "    <tr>\n",
       "      <th>40</th>\n",
       "      <td>Kix (2 - 39.24)</td>\n",
       "      <td>1</td>\n",
       "    </tr>\n",
       "    <tr>\n",
       "      <th>62</th>\n",
       "      <td>Rice_Krispies (1 - 40.56)</td>\n",
       "      <td>1</td>\n",
       "    </tr>\n",
       "    <tr>\n",
       "      <th>53</th>\n",
       "      <td>Product_19 (3 - 41.5)</td>\n",
       "      <td>1</td>\n",
       "    </tr>\n",
       "    <tr>\n",
       "      <th>21</th>\n",
       "      <td>Crispix (3 - 46.9)</td>\n",
       "      <td>1</td>\n",
       "    </tr>\n",
       "    <tr>\n",
       "      <th>38</th>\n",
       "      <td>Just_Right_Crunchy__Nuggets (3 - 36.52)</td>\n",
       "      <td>1</td>\n",
       "    </tr>\n",
       "    <tr>\n",
       "      <th>61</th>\n",
       "      <td>Rice_Chex (1 - 42.0)</td>\n",
       "      <td>1</td>\n",
       "    </tr>\n",
       "    <tr>\n",
       "      <th>16</th>\n",
       "      <td>Corn_Flakes (1 - 45.86)</td>\n",
       "      <td>1</td>\n",
       "    </tr>\n",
       "    <tr>\n",
       "      <th>15</th>\n",
       "      <td>Corn_Chex (1 - 41.45)</td>\n",
       "      <td>1</td>\n",
       "    </tr>\n",
       "    <tr>\n",
       "      <th>72</th>\n",
       "      <td>Triples (3 - 39.11)</td>\n",
       "      <td>1</td>\n",
       "    </tr>\n",
       "    <tr>\n",
       "      <th>71</th>\n",
       "      <td>Total_Whole_Grain (3 - 46.66)</td>\n",
       "      <td>1</td>\n",
       "    </tr>\n",
       "    <tr>\n",
       "      <th>69</th>\n",
       "      <td>Total_Corn_Flakes (3 - 38.84)</td>\n",
       "      <td>1</td>\n",
       "    </tr>\n",
       "    <tr>\n",
       "      <th>47</th>\n",
       "      <td>Multi-Grain_Cheerios (1 - 40.11)</td>\n",
       "      <td>2</td>\n",
       "    </tr>\n",
       "    <tr>\n",
       "      <th>74</th>\n",
       "      <td>Wheat_Chex (1 - 49.79)</td>\n",
       "      <td>2</td>\n",
       "    </tr>\n",
       "    <tr>\n",
       "      <th>43</th>\n",
       "      <td>Maypo (2 - 54.85)</td>\n",
       "      <td>2</td>\n",
       "    </tr>\n",
       "    <tr>\n",
       "      <th>41</th>\n",
       "      <td>Life (2 - 45.33)</td>\n",
       "      <td>2</td>\n",
       "    </tr>\n",
       "    <tr>\n",
       "      <th>8</th>\n",
       "      <td>Bran_Chex (1 - 49.12)</td>\n",
       "      <td>2</td>\n",
       "    </tr>\n",
       "    <tr>\n",
       "      <th>...</th>\n",
       "      <td>...</td>\n",
       "      <td>...</td>\n",
       "    </tr>\n",
       "    <tr>\n",
       "      <th>20</th>\n",
       "      <td>Cream_of_Wheat_(Quick) (2 - 64.53)</td>\n",
       "      <td>2</td>\n",
       "    </tr>\n",
       "    <tr>\n",
       "      <th>63</th>\n",
       "      <td>Shredded_Wheat (1 - 68.24)</td>\n",
       "      <td>2</td>\n",
       "    </tr>\n",
       "    <tr>\n",
       "      <th>34</th>\n",
       "      <td>Great_Grains_Pecan (3 - 45.81)</td>\n",
       "      <td>2</td>\n",
       "    </tr>\n",
       "    <tr>\n",
       "      <th>0</th>\n",
       "      <td>100%_Bran (3 - 68.4)</td>\n",
       "      <td>3</td>\n",
       "    </tr>\n",
       "    <tr>\n",
       "      <th>2</th>\n",
       "      <td>All-Bran (3 - 59.43)</td>\n",
       "      <td>3</td>\n",
       "    </tr>\n",
       "    <tr>\n",
       "      <th>3</th>\n",
       "      <td>All-Bran_with_Extra_Fiber (3 - 93.7)</td>\n",
       "      <td>3</td>\n",
       "    </tr>\n",
       "    <tr>\n",
       "      <th>42</th>\n",
       "      <td>Lucky_Charms (2 - 26.73)</td>\n",
       "      <td>4</td>\n",
       "    </tr>\n",
       "    <tr>\n",
       "      <th>73</th>\n",
       "      <td>Trix (2 - 27.75)</td>\n",
       "      <td>4</td>\n",
       "    </tr>\n",
       "    <tr>\n",
       "      <th>4</th>\n",
       "      <td>Almond_Delight (3 - 34.38)</td>\n",
       "      <td>4</td>\n",
       "    </tr>\n",
       "    <tr>\n",
       "      <th>5</th>\n",
       "      <td>Apple_Cinnamon_Cheerios (1 - 29.51)</td>\n",
       "      <td>4</td>\n",
       "    </tr>\n",
       "    <tr>\n",
       "      <th>6</th>\n",
       "      <td>Apple_Jacks (2 - 33.17)</td>\n",
       "      <td>4</td>\n",
       "    </tr>\n",
       "    <tr>\n",
       "      <th>10</th>\n",
       "      <td>Cap'n'Crunch (2 - 18.04)</td>\n",
       "      <td>4</td>\n",
       "    </tr>\n",
       "    <tr>\n",
       "      <th>12</th>\n",
       "      <td>Cinnamon_Toast_Crunch (2 - 19.82)</td>\n",
       "      <td>4</td>\n",
       "    </tr>\n",
       "    <tr>\n",
       "      <th>66</th>\n",
       "      <td>Smacks (2 - 31.23)</td>\n",
       "      <td>4</td>\n",
       "    </tr>\n",
       "    <tr>\n",
       "      <th>14</th>\n",
       "      <td>Cocoa_Puffs (2 - 22.74)</td>\n",
       "      <td>4</td>\n",
       "    </tr>\n",
       "    <tr>\n",
       "      <th>17</th>\n",
       "      <td>Corn_Pops (2 - 35.78)</td>\n",
       "      <td>4</td>\n",
       "    </tr>\n",
       "    <tr>\n",
       "      <th>18</th>\n",
       "      <td>Count_Chocula (2 - 22.4)</td>\n",
       "      <td>4</td>\n",
       "    </tr>\n",
       "    <tr>\n",
       "      <th>22</th>\n",
       "      <td>Crispy_Wheat_&amp;_Raisins (3 - 36.18)</td>\n",
       "      <td>4</td>\n",
       "    </tr>\n",
       "    <tr>\n",
       "      <th>24</th>\n",
       "      <td>Froot_Loops (2 - 32.21)</td>\n",
       "      <td>4</td>\n",
       "    </tr>\n",
       "    <tr>\n",
       "      <th>25</th>\n",
       "      <td>Frosted_Flakes (1 - 31.44)</td>\n",
       "      <td>4</td>\n",
       "    </tr>\n",
       "    <tr>\n",
       "      <th>29</th>\n",
       "      <td>Fruity_Pebbles (2 - 28.03)</td>\n",
       "      <td>4</td>\n",
       "    </tr>\n",
       "    <tr>\n",
       "      <th>30</th>\n",
       "      <td>Golden_Crisp (1 - 35.25)</td>\n",
       "      <td>4</td>\n",
       "    </tr>\n",
       "    <tr>\n",
       "      <th>31</th>\n",
       "      <td>Golden_Grahams (2 - 23.8)</td>\n",
       "      <td>4</td>\n",
       "    </tr>\n",
       "    <tr>\n",
       "      <th>35</th>\n",
       "      <td>Honey_Graham_Ohs (2 - 21.87)</td>\n",
       "      <td>4</td>\n",
       "    </tr>\n",
       "    <tr>\n",
       "      <th>36</th>\n",
       "      <td>Honey_Nut_Cheerios (1 - 31.07)</td>\n",
       "      <td>4</td>\n",
       "    </tr>\n",
       "    <tr>\n",
       "      <th>37</th>\n",
       "      <td>Honey-comb (1 - 28.74)</td>\n",
       "      <td>4</td>\n",
       "    </tr>\n",
       "    <tr>\n",
       "      <th>48</th>\n",
       "      <td>Nut&amp;Honey_Crunch (2 - 29.92)</td>\n",
       "      <td>4</td>\n",
       "    </tr>\n",
       "    <tr>\n",
       "      <th>76</th>\n",
       "      <td>Wheaties_Honey_Gold (1 - 36.19)</td>\n",
       "      <td>4</td>\n",
       "    </tr>\n",
       "    <tr>\n",
       "      <th>55</th>\n",
       "      <td>Puffed_Wheat (3 - 63.01)</td>\n",
       "      <td>5</td>\n",
       "    </tr>\n",
       "    <tr>\n",
       "      <th>54</th>\n",
       "      <td>Puffed_Rice (3 - 60.76)</td>\n",
       "      <td>5</td>\n",
       "    </tr>\n",
       "  </tbody>\n",
       "</table>\n",
       "<p>77 rows × 2 columns</p>\n",
       "</div>"
      ],
      "text/plain": [
       "                                               labels  agg_cluster\n",
       "49              Nutri-Grain_Almond-Raisin (3 - 40.69)            0\n",
       "1                       100%_Natural_Bran (3 - 33.98)            0\n",
       "46                   Mueslix_Crispy_Blend (3 - 30.31)            0\n",
       "45      Muesli_Raisins,_Peaches,_&_Pecans (3 - 34.14)            0\n",
       "44       Muesli_Raisins,_Dates,_&_Almonds (3 - 37.14)            0\n",
       "70                      Total_Raisin_Bran (3 - 28.59)            0\n",
       "51                   Oatmeal_Raisin_Crisp (3 - 30.45)            0\n",
       "7                                 Basic_4 (3 - 37.04)            0\n",
       "39                 Just_Right_Fruit_&_Nut (3 - 36.47)            0\n",
       "52                  Post_Nat._Raisin_Bran (3 - 37.84)            0\n",
       "27  Fruit_&_Fibre_Dates,_Walnuts,_and_Oats (3 - 40...            0\n",
       "58                            Raisin_Bran (2 - 39.26)            0\n",
       "28                          Fruitful_Bran (3 - 41.02)            0\n",
       "23                            Double_Chex (3 - 44.33)            1\n",
       "40                                    Kix (2 - 39.24)            1\n",
       "62                          Rice_Krispies (1 - 40.56)            1\n",
       "53                              Product_19 (3 - 41.5)            1\n",
       "21                                 Crispix (3 - 46.9)            1\n",
       "38            Just_Right_Crunchy__Nuggets (3 - 36.52)            1\n",
       "61                               Rice_Chex (1 - 42.0)            1\n",
       "16                            Corn_Flakes (1 - 45.86)            1\n",
       "15                              Corn_Chex (1 - 41.45)            1\n",
       "72                                Triples (3 - 39.11)            1\n",
       "71                      Total_Whole_Grain (3 - 46.66)            1\n",
       "69                      Total_Corn_Flakes (3 - 38.84)            1\n",
       "47                   Multi-Grain_Cheerios (1 - 40.11)            2\n",
       "74                             Wheat_Chex (1 - 49.79)            2\n",
       "43                                  Maypo (2 - 54.85)            2\n",
       "41                                   Life (2 - 45.33)            2\n",
       "8                               Bran_Chex (1 - 49.12)            2\n",
       "..                                                ...          ...\n",
       "20                 Cream_of_Wheat_(Quick) (2 - 64.53)            2\n",
       "63                         Shredded_Wheat (1 - 68.24)            2\n",
       "34                     Great_Grains_Pecan (3 - 45.81)            2\n",
       "0                                100%_Bran (3 - 68.4)            3\n",
       "2                                All-Bran (3 - 59.43)            3\n",
       "3                All-Bran_with_Extra_Fiber (3 - 93.7)            3\n",
       "42                           Lucky_Charms (2 - 26.73)            4\n",
       "73                                   Trix (2 - 27.75)            4\n",
       "4                          Almond_Delight (3 - 34.38)            4\n",
       "5                 Apple_Cinnamon_Cheerios (1 - 29.51)            4\n",
       "6                             Apple_Jacks (2 - 33.17)            4\n",
       "10                           Cap'n'Crunch (2 - 18.04)            4\n",
       "12                  Cinnamon_Toast_Crunch (2 - 19.82)            4\n",
       "66                                 Smacks (2 - 31.23)            4\n",
       "14                            Cocoa_Puffs (2 - 22.74)            4\n",
       "17                              Corn_Pops (2 - 35.78)            4\n",
       "18                           Count_Chocula (2 - 22.4)            4\n",
       "22                 Crispy_Wheat_&_Raisins (3 - 36.18)            4\n",
       "24                            Froot_Loops (2 - 32.21)            4\n",
       "25                         Frosted_Flakes (1 - 31.44)            4\n",
       "29                         Fruity_Pebbles (2 - 28.03)            4\n",
       "30                           Golden_Crisp (1 - 35.25)            4\n",
       "31                          Golden_Grahams (2 - 23.8)            4\n",
       "35                       Honey_Graham_Ohs (2 - 21.87)            4\n",
       "36                     Honey_Nut_Cheerios (1 - 31.07)            4\n",
       "37                             Honey-comb (1 - 28.74)            4\n",
       "48                       Nut&Honey_Crunch (2 - 29.92)            4\n",
       "76                    Wheaties_Honey_Gold (1 - 36.19)            4\n",
       "55                           Puffed_Wheat (3 - 63.01)            5\n",
       "54                            Puffed_Rice (3 - 60.76)            5\n",
       "\n",
       "[77 rows x 2 columns]"
      ]
     },
     "execution_count": 17,
     "metadata": {},
     "output_type": "execute_result"
    }
   ],
   "source": [
    "agg_result"
   ]
  },
  {
   "cell_type": "markdown",
   "metadata": {},
   "source": [
    "## K-Means Clustering\n",
    "**Parameter description**\n",
    "\n",
    "n_clusters : The number of clusters to find.\n",
    "\n",
    "tol : Relative tolerance with regards to inertia to declare convergence\n",
    "\n",
    "n_init : Number of time the k-means algorithm will be run with different centroid seeds. The final results will be the best output of n_init consecutive runs in terms of inertia.\n",
    "\n",
    "max_iter : max iterations of recomputing new cluster centroids \n",
    "\n",
    "n_jobs : The number of jobs to use for the computation. This works by computing each of the n_init runs in parallel.\n"
   ]
  },
  {
   "cell_type": "code",
   "execution_count": 30,
   "metadata": {
    "ExecuteTime": {
     "end_time": "2019-10-12T11:41:00.254578Z",
     "start_time": "2019-10-12T11:41:00.196842Z"
    }
   },
   "outputs": [
    {
     "data": {
      "text/html": [
       "<div>\n",
       "<style scoped>\n",
       "    .dataframe tbody tr th:only-of-type {\n",
       "        vertical-align: middle;\n",
       "    }\n",
       "\n",
       "    .dataframe tbody tr th {\n",
       "        vertical-align: top;\n",
       "    }\n",
       "\n",
       "    .dataframe thead th {\n",
       "        text-align: right;\n",
       "    }\n",
       "</style>\n",
       "<table border=\"1\" class=\"dataframe\">\n",
       "  <thead>\n",
       "    <tr style=\"text-align: right;\">\n",
       "      <th></th>\n",
       "      <th>labels</th>\n",
       "      <th>kmeans_cluster</th>\n",
       "    </tr>\n",
       "  </thead>\n",
       "  <tbody>\n",
       "    <tr>\n",
       "      <th>0</th>\n",
       "      <td>100%_Bran (3 - 68.4)</td>\n",
       "      <td>0</td>\n",
       "    </tr>\n",
       "    <tr>\n",
       "      <th>1</th>\n",
       "      <td>100%_Natural_Bran (3 - 33.98)</td>\n",
       "      <td>3</td>\n",
       "    </tr>\n",
       "    <tr>\n",
       "      <th>2</th>\n",
       "      <td>All-Bran (3 - 59.43)</td>\n",
       "      <td>0</td>\n",
       "    </tr>\n",
       "    <tr>\n",
       "      <th>3</th>\n",
       "      <td>All-Bran_with_Extra_Fiber (3 - 93.7)</td>\n",
       "      <td>0</td>\n",
       "    </tr>\n",
       "    <tr>\n",
       "      <th>4</th>\n",
       "      <td>Almond_Delight (3 - 34.38)</td>\n",
       "      <td>3</td>\n",
       "    </tr>\n",
       "  </tbody>\n",
       "</table>\n",
       "</div>"
      ],
      "text/plain": [
       "                                 labels  kmeans_cluster\n",
       "0                  100%_Bran (3 - 68.4)               0\n",
       "1         100%_Natural_Bran (3 - 33.98)               3\n",
       "2                  All-Bran (3 - 59.43)               0\n",
       "3  All-Bran_with_Extra_Fiber (3 - 93.7)               0\n",
       "4            Almond_Delight (3 - 34.38)               3"
      ]
     },
     "execution_count": 30,
     "metadata": {},
     "output_type": "execute_result"
    }
   ],
   "source": [
    "from sklearn.cluster import KMeans\n",
    "kmeans_object = KMeans(n_clusters=6,random_state=123)\n",
    "kmeans_object.fit(std_cereals)\n",
    "kmeans_clusters = kmeans_object.predict(std_cereals)\n",
    "kmeans_result = pd.DataFrame({\"labels\":cereals_label,\n",
    "                              \"kmeans_cluster\":kmeans_clusters})\n",
    "kmeans_result.head()"
   ]
  },
  {
   "cell_type": "markdown",
   "metadata": {},
   "source": [
    "### Inspecting cluster centroids to understand average statistics of each cluster"
   ]
  },
  {
   "cell_type": "code",
   "execution_count": 31,
   "metadata": {
    "ExecuteTime": {
     "end_time": "2019-10-12T11:41:06.178364Z",
     "start_time": "2019-10-12T11:41:06.169756Z"
    }
   },
   "outputs": [
    {
     "data": {
      "text/plain": [
       "array([[-2.24979938, -2.10981415, -1.87877244, -0.34634956,  3.73676565,\n",
       "         3.06167606,  1.33731939,  0.20401161, -0.77744163, -0.14627013,\n",
       "        -0.19806746,  5.        ],\n",
       "       [-0.74303762,  0.14522744,  0.04686867, -0.38801974,  0.1126775 ,\n",
       "        -0.05764788,  0.53283819, -0.12742604, -0.83009148, -0.42784013,\n",
       "        -0.6872094 ,  2.0625    ],\n",
       "       [ 0.16101944,  1.45582863,  0.82090972, -0.51303028, -0.59207963,\n",
       "        -0.70505474, -0.34826026,  0.97444783, -0.79672543,  1.26157987,\n",
       "        -0.03083945,  6.41666667],\n",
       "       [ 0.33322078, -0.61008319, -0.00016852,  0.52039021, -0.42314908,\n",
       "        -0.38214611, -0.47084787, -0.05813681,  0.7729759 , -0.1838128 ,\n",
       "        -0.19806746,  0.73333333],\n",
       "       [-0.6507869 ,  0.60686606, -0.06628318, -0.87020326,  0.05649301,\n",
       "         0.13038684,  0.28656844, -1.75423999, -0.93171203, -0.62896156,\n",
       "        -0.19806746,  8.        ],\n",
       "       [ 1.25162795,  0.06558811, -0.49949558,  0.43149382,  0.71009334,\n",
       "         1.1944078 ,  0.41791231,  0.4174658 ,  0.94524452,  0.22915654,\n",
       "         2.14312471,  4.        ]])"
      ]
     },
     "execution_count": 31,
     "metadata": {},
     "output_type": "execute_result"
    }
   ],
   "source": [
    "kmeans_object.cluster_centers_"
   ]
  },
  {
   "cell_type": "code",
   "execution_count": 20,
   "metadata": {
    "ExecuteTime": {
     "end_time": "2019-10-12T11:35:29.394254Z",
     "start_time": "2019-10-12T11:35:29.351547Z"
    }
   },
   "outputs": [
    {
     "data": {
      "text/html": [
       "<div>\n",
       "<style scoped>\n",
       "    .dataframe tbody tr th:only-of-type {\n",
       "        vertical-align: middle;\n",
       "    }\n",
       "\n",
       "    .dataframe tbody tr th {\n",
       "        vertical-align: top;\n",
       "    }\n",
       "\n",
       "    .dataframe thead th {\n",
       "        text-align: right;\n",
       "    }\n",
       "</style>\n",
       "<table border=\"1\" class=\"dataframe\">\n",
       "  <thead>\n",
       "    <tr style=\"text-align: right;\">\n",
       "      <th></th>\n",
       "      <th>calories</th>\n",
       "      <th>carbo</th>\n",
       "      <th>cups</th>\n",
       "      <th>fat</th>\n",
       "      <th>fiber</th>\n",
       "      <th>potass</th>\n",
       "      <th>protein</th>\n",
       "      <th>sodium</th>\n",
       "      <th>sugars</th>\n",
       "      <th>vitamins</th>\n",
       "      <th>weight</th>\n",
       "    </tr>\n",
       "  </thead>\n",
       "  <tbody>\n",
       "    <tr>\n",
       "      <th>0</th>\n",
       "      <td>110.833333</td>\n",
       "      <td>12.416667</td>\n",
       "      <td>0.880417</td>\n",
       "      <td>1.208333</td>\n",
       "      <td>0.708333</td>\n",
       "      <td>54.944444</td>\n",
       "      <td>1.625000</td>\n",
       "      <td>165.625000</td>\n",
       "      <td>10.958333</td>\n",
       "      <td>23.958333</td>\n",
       "      <td>1.000000</td>\n",
       "    </tr>\n",
       "    <tr>\n",
       "      <th>1</th>\n",
       "      <td>94.090909</td>\n",
       "      <td>14.695574</td>\n",
       "      <td>0.702273</td>\n",
       "      <td>0.863636</td>\n",
       "      <td>2.554545</td>\n",
       "      <td>106.303030</td>\n",
       "      <td>2.909091</td>\n",
       "      <td>82.954545</td>\n",
       "      <td>4.001196</td>\n",
       "      <td>17.045455</td>\n",
       "      <td>0.946818</td>\n",
       "    </tr>\n",
       "    <tr>\n",
       "      <th>2</th>\n",
       "      <td>135.000000</td>\n",
       "      <td>15.625000</td>\n",
       "      <td>0.758333</td>\n",
       "      <td>1.666667</td>\n",
       "      <td>3.541667</td>\n",
       "      <td>172.083333</td>\n",
       "      <td>3.166667</td>\n",
       "      <td>180.416667</td>\n",
       "      <td>10.916667</td>\n",
       "      <td>37.500000</td>\n",
       "      <td>1.287500</td>\n",
       "    </tr>\n",
       "    <tr>\n",
       "      <th>3</th>\n",
       "      <td>63.333333</td>\n",
       "      <td>6.666667</td>\n",
       "      <td>0.386667</td>\n",
       "      <td>0.666667</td>\n",
       "      <td>11.000000</td>\n",
       "      <td>310.000000</td>\n",
       "      <td>4.000000</td>\n",
       "      <td>176.666667</td>\n",
       "      <td>3.666667</td>\n",
       "      <td>25.000000</td>\n",
       "      <td>1.000000</td>\n",
       "    </tr>\n",
       "    <tr>\n",
       "      <th>4</th>\n",
       "      <td>105.625000</td>\n",
       "      <td>19.437500</td>\n",
       "      <td>1.023750</td>\n",
       "      <td>0.500000</td>\n",
       "      <td>1.062500</td>\n",
       "      <td>59.062500</td>\n",
       "      <td>2.687500</td>\n",
       "      <td>237.500000</td>\n",
       "      <td>3.000000</td>\n",
       "      <td>43.750000</td>\n",
       "      <td>1.000000</td>\n",
       "    </tr>\n",
       "  </tbody>\n",
       "</table>\n",
       "</div>"
      ],
      "text/plain": [
       "     calories      carbo      cups       fat      fiber      potass   protein  \\\n",
       "0  110.833333  12.416667  0.880417  1.208333   0.708333   54.944444  1.625000   \n",
       "1   94.090909  14.695574  0.702273  0.863636   2.554545  106.303030  2.909091   \n",
       "2  135.000000  15.625000  0.758333  1.666667   3.541667  172.083333  3.166667   \n",
       "3   63.333333   6.666667  0.386667  0.666667  11.000000  310.000000  4.000000   \n",
       "4  105.625000  19.437500  1.023750  0.500000   1.062500   59.062500  2.687500   \n",
       "\n",
       "       sodium     sugars   vitamins    weight  \n",
       "0  165.625000  10.958333  23.958333  1.000000  \n",
       "1   82.954545   4.001196  17.045455  0.946818  \n",
       "2  180.416667  10.916667  37.500000  1.287500  \n",
       "3  176.666667   3.666667  25.000000  1.000000  \n",
       "4  237.500000   3.000000  43.750000  1.000000  "
      ]
     },
     "execution_count": 20,
     "metadata": {},
     "output_type": "execute_result"
    }
   ],
   "source": [
    "cluster_centroids = pd.DataFrame(standardizer.inverse_transform(kmeans_object.cluster_centers_),\n",
    "                                 columns = cereals.columns)\n",
    "cluster_centroids"
   ]
  },
  {
   "cell_type": "markdown",
   "metadata": {},
   "source": [
    "### Selecting the best k value - using Elbow plot \n",
    "\n",
    "**Error Sum of Squares (SSE) SSE** is the sum of the squared differences between each observation and its group's mean. It can be used as a measure of variation within a cluster."
   ]
  },
  {
   "cell_type": "code",
   "execution_count": 21,
   "metadata": {
    "ExecuteTime": {
     "end_time": "2019-10-12T11:35:29.644418Z",
     "start_time": "2019-10-12T11:35:29.400166Z"
    }
   },
   "outputs": [],
   "source": [
    "sse = {}\n",
    "for k in range(1, 10):\n",
    "    kmeans = KMeans(n_clusters=k, max_iter=1000,random_state=1234).fit(std_cereals)\n",
    "    std_cereals[\"clusters\"] = kmeans.labels_\n",
    "    #print(std_cereals[\"clusters\"])\n",
    "    sse[k] = kmeans.inertia_ # Inertia: Sum of distances of samples to their closest cluster center\n"
   ]
  },
  {
   "cell_type": "raw",
   "metadata": {},
   "source": [
    "#Using Matplotlib\n",
    "plt.figure()\n",
    "plt.plot(list(sse.keys()), list(sse.values()))\n",
    "plt.xlabel(\"Number of cluster\")\n",
    "plt.ylabel(\"SSE\")\n",
    "plt.show()"
   ]
  },
  {
   "cell_type": "code",
   "execution_count": 22,
   "metadata": {
    "ExecuteTime": {
     "end_time": "2019-10-12T11:35:31.693393Z",
     "start_time": "2019-10-12T11:35:29.646463Z"
    }
   },
   "outputs": [
    {
     "data": {
      "application/vnd.plotly.v1+json": {
       "config": {
        "linkText": "Export to plot.ly",
        "plotlyServerURL": "https://plot.ly",
        "showLink": false
       },
       "data": [
        {
         "type": "scatter",
         "x": [
          1,
          2,
          3,
          4,
          5,
          6,
          7,
          8,
          9
         ],
         "y": [
          846.9999999999999,
          686.4622338517572,
          586.5946795477993,
          490.21421413750045,
          430.4391685836352,
          371.3956998334912,
          319.8591169215423,
          281.0655758627862,
          250.83247401699006
         ]
        }
       ],
       "layout": {
        "template": {
         "data": {
          "bar": [
           {
            "error_x": {
             "color": "#2a3f5f"
            },
            "error_y": {
             "color": "#2a3f5f"
            },
            "marker": {
             "line": {
              "color": "#E5ECF6",
              "width": 0.5
             }
            },
            "type": "bar"
           }
          ],
          "barpolar": [
           {
            "marker": {
             "line": {
              "color": "#E5ECF6",
              "width": 0.5
             }
            },
            "type": "barpolar"
           }
          ],
          "carpet": [
           {
            "aaxis": {
             "endlinecolor": "#2a3f5f",
             "gridcolor": "white",
             "linecolor": "white",
             "minorgridcolor": "white",
             "startlinecolor": "#2a3f5f"
            },
            "baxis": {
             "endlinecolor": "#2a3f5f",
             "gridcolor": "white",
             "linecolor": "white",
             "minorgridcolor": "white",
             "startlinecolor": "#2a3f5f"
            },
            "type": "carpet"
           }
          ],
          "choropleth": [
           {
            "colorbar": {
             "outlinewidth": 0,
             "ticks": ""
            },
            "type": "choropleth"
           }
          ],
          "contour": [
           {
            "colorbar": {
             "outlinewidth": 0,
             "ticks": ""
            },
            "colorscale": [
             [
              0,
              "#0d0887"
             ],
             [
              0.1111111111111111,
              "#46039f"
             ],
             [
              0.2222222222222222,
              "#7201a8"
             ],
             [
              0.3333333333333333,
              "#9c179e"
             ],
             [
              0.4444444444444444,
              "#bd3786"
             ],
             [
              0.5555555555555556,
              "#d8576b"
             ],
             [
              0.6666666666666666,
              "#ed7953"
             ],
             [
              0.7777777777777778,
              "#fb9f3a"
             ],
             [
              0.8888888888888888,
              "#fdca26"
             ],
             [
              1,
              "#f0f921"
             ]
            ],
            "type": "contour"
           }
          ],
          "contourcarpet": [
           {
            "colorbar": {
             "outlinewidth": 0,
             "ticks": ""
            },
            "type": "contourcarpet"
           }
          ],
          "heatmap": [
           {
            "colorbar": {
             "outlinewidth": 0,
             "ticks": ""
            },
            "colorscale": [
             [
              0,
              "#0d0887"
             ],
             [
              0.1111111111111111,
              "#46039f"
             ],
             [
              0.2222222222222222,
              "#7201a8"
             ],
             [
              0.3333333333333333,
              "#9c179e"
             ],
             [
              0.4444444444444444,
              "#bd3786"
             ],
             [
              0.5555555555555556,
              "#d8576b"
             ],
             [
              0.6666666666666666,
              "#ed7953"
             ],
             [
              0.7777777777777778,
              "#fb9f3a"
             ],
             [
              0.8888888888888888,
              "#fdca26"
             ],
             [
              1,
              "#f0f921"
             ]
            ],
            "type": "heatmap"
           }
          ],
          "heatmapgl": [
           {
            "colorbar": {
             "outlinewidth": 0,
             "ticks": ""
            },
            "colorscale": [
             [
              0,
              "#0d0887"
             ],
             [
              0.1111111111111111,
              "#46039f"
             ],
             [
              0.2222222222222222,
              "#7201a8"
             ],
             [
              0.3333333333333333,
              "#9c179e"
             ],
             [
              0.4444444444444444,
              "#bd3786"
             ],
             [
              0.5555555555555556,
              "#d8576b"
             ],
             [
              0.6666666666666666,
              "#ed7953"
             ],
             [
              0.7777777777777778,
              "#fb9f3a"
             ],
             [
              0.8888888888888888,
              "#fdca26"
             ],
             [
              1,
              "#f0f921"
             ]
            ],
            "type": "heatmapgl"
           }
          ],
          "histogram": [
           {
            "marker": {
             "colorbar": {
              "outlinewidth": 0,
              "ticks": ""
             }
            },
            "type": "histogram"
           }
          ],
          "histogram2d": [
           {
            "colorbar": {
             "outlinewidth": 0,
             "ticks": ""
            },
            "colorscale": [
             [
              0,
              "#0d0887"
             ],
             [
              0.1111111111111111,
              "#46039f"
             ],
             [
              0.2222222222222222,
              "#7201a8"
             ],
             [
              0.3333333333333333,
              "#9c179e"
             ],
             [
              0.4444444444444444,
              "#bd3786"
             ],
             [
              0.5555555555555556,
              "#d8576b"
             ],
             [
              0.6666666666666666,
              "#ed7953"
             ],
             [
              0.7777777777777778,
              "#fb9f3a"
             ],
             [
              0.8888888888888888,
              "#fdca26"
             ],
             [
              1,
              "#f0f921"
             ]
            ],
            "type": "histogram2d"
           }
          ],
          "histogram2dcontour": [
           {
            "colorbar": {
             "outlinewidth": 0,
             "ticks": ""
            },
            "colorscale": [
             [
              0,
              "#0d0887"
             ],
             [
              0.1111111111111111,
              "#46039f"
             ],
             [
              0.2222222222222222,
              "#7201a8"
             ],
             [
              0.3333333333333333,
              "#9c179e"
             ],
             [
              0.4444444444444444,
              "#bd3786"
             ],
             [
              0.5555555555555556,
              "#d8576b"
             ],
             [
              0.6666666666666666,
              "#ed7953"
             ],
             [
              0.7777777777777778,
              "#fb9f3a"
             ],
             [
              0.8888888888888888,
              "#fdca26"
             ],
             [
              1,
              "#f0f921"
             ]
            ],
            "type": "histogram2dcontour"
           }
          ],
          "mesh3d": [
           {
            "colorbar": {
             "outlinewidth": 0,
             "ticks": ""
            },
            "type": "mesh3d"
           }
          ],
          "parcoords": [
           {
            "line": {
             "colorbar": {
              "outlinewidth": 0,
              "ticks": ""
             }
            },
            "type": "parcoords"
           }
          ],
          "scatter": [
           {
            "marker": {
             "colorbar": {
              "outlinewidth": 0,
              "ticks": ""
             }
            },
            "type": "scatter"
           }
          ],
          "scatter3d": [
           {
            "line": {
             "colorbar": {
              "outlinewidth": 0,
              "ticks": ""
             }
            },
            "marker": {
             "colorbar": {
              "outlinewidth": 0,
              "ticks": ""
             }
            },
            "type": "scatter3d"
           }
          ],
          "scattercarpet": [
           {
            "marker": {
             "colorbar": {
              "outlinewidth": 0,
              "ticks": ""
             }
            },
            "type": "scattercarpet"
           }
          ],
          "scattergeo": [
           {
            "marker": {
             "colorbar": {
              "outlinewidth": 0,
              "ticks": ""
             }
            },
            "type": "scattergeo"
           }
          ],
          "scattergl": [
           {
            "marker": {
             "colorbar": {
              "outlinewidth": 0,
              "ticks": ""
             }
            },
            "type": "scattergl"
           }
          ],
          "scattermapbox": [
           {
            "marker": {
             "colorbar": {
              "outlinewidth": 0,
              "ticks": ""
             }
            },
            "type": "scattermapbox"
           }
          ],
          "scatterpolar": [
           {
            "marker": {
             "colorbar": {
              "outlinewidth": 0,
              "ticks": ""
             }
            },
            "type": "scatterpolar"
           }
          ],
          "scatterpolargl": [
           {
            "marker": {
             "colorbar": {
              "outlinewidth": 0,
              "ticks": ""
             }
            },
            "type": "scatterpolargl"
           }
          ],
          "scatterternary": [
           {
            "marker": {
             "colorbar": {
              "outlinewidth": 0,
              "ticks": ""
             }
            },
            "type": "scatterternary"
           }
          ],
          "surface": [
           {
            "colorbar": {
             "outlinewidth": 0,
             "ticks": ""
            },
            "colorscale": [
             [
              0,
              "#0d0887"
             ],
             [
              0.1111111111111111,
              "#46039f"
             ],
             [
              0.2222222222222222,
              "#7201a8"
             ],
             [
              0.3333333333333333,
              "#9c179e"
             ],
             [
              0.4444444444444444,
              "#bd3786"
             ],
             [
              0.5555555555555556,
              "#d8576b"
             ],
             [
              0.6666666666666666,
              "#ed7953"
             ],
             [
              0.7777777777777778,
              "#fb9f3a"
             ],
             [
              0.8888888888888888,
              "#fdca26"
             ],
             [
              1,
              "#f0f921"
             ]
            ],
            "type": "surface"
           }
          ],
          "table": [
           {
            "cells": {
             "fill": {
              "color": "#EBF0F8"
             },
             "line": {
              "color": "white"
             }
            },
            "header": {
             "fill": {
              "color": "#C8D4E3"
             },
             "line": {
              "color": "white"
             }
            },
            "type": "table"
           }
          ]
         },
         "layout": {
          "annotationdefaults": {
           "arrowcolor": "#2a3f5f",
           "arrowhead": 0,
           "arrowwidth": 1
          },
          "colorscale": {
           "diverging": [
            [
             0,
             "#8e0152"
            ],
            [
             0.1,
             "#c51b7d"
            ],
            [
             0.2,
             "#de77ae"
            ],
            [
             0.3,
             "#f1b6da"
            ],
            [
             0.4,
             "#fde0ef"
            ],
            [
             0.5,
             "#f7f7f7"
            ],
            [
             0.6,
             "#e6f5d0"
            ],
            [
             0.7,
             "#b8e186"
            ],
            [
             0.8,
             "#7fbc41"
            ],
            [
             0.9,
             "#4d9221"
            ],
            [
             1,
             "#276419"
            ]
           ],
           "sequential": [
            [
             0,
             "#0d0887"
            ],
            [
             0.1111111111111111,
             "#46039f"
            ],
            [
             0.2222222222222222,
             "#7201a8"
            ],
            [
             0.3333333333333333,
             "#9c179e"
            ],
            [
             0.4444444444444444,
             "#bd3786"
            ],
            [
             0.5555555555555556,
             "#d8576b"
            ],
            [
             0.6666666666666666,
             "#ed7953"
            ],
            [
             0.7777777777777778,
             "#fb9f3a"
            ],
            [
             0.8888888888888888,
             "#fdca26"
            ],
            [
             1,
             "#f0f921"
            ]
           ],
           "sequentialminus": [
            [
             0,
             "#0d0887"
            ],
            [
             0.1111111111111111,
             "#46039f"
            ],
            [
             0.2222222222222222,
             "#7201a8"
            ],
            [
             0.3333333333333333,
             "#9c179e"
            ],
            [
             0.4444444444444444,
             "#bd3786"
            ],
            [
             0.5555555555555556,
             "#d8576b"
            ],
            [
             0.6666666666666666,
             "#ed7953"
            ],
            [
             0.7777777777777778,
             "#fb9f3a"
            ],
            [
             0.8888888888888888,
             "#fdca26"
            ],
            [
             1,
             "#f0f921"
            ]
           ]
          },
          "colorway": [
           "#636efa",
           "#EF553B",
           "#00cc96",
           "#ab63fa",
           "#FFA15A",
           "#19d3f3",
           "#FF6692",
           "#B6E880",
           "#FF97FF",
           "#FECB52"
          ],
          "font": {
           "color": "#2a3f5f"
          },
          "geo": {
           "bgcolor": "white",
           "lakecolor": "white",
           "landcolor": "#E5ECF6",
           "showlakes": true,
           "showland": true,
           "subunitcolor": "white"
          },
          "hoverlabel": {
           "align": "left"
          },
          "hovermode": "closest",
          "mapbox": {
           "style": "light"
          },
          "paper_bgcolor": "white",
          "plot_bgcolor": "#E5ECF6",
          "polar": {
           "angularaxis": {
            "gridcolor": "white",
            "linecolor": "white",
            "ticks": ""
           },
           "bgcolor": "#E5ECF6",
           "radialaxis": {
            "gridcolor": "white",
            "linecolor": "white",
            "ticks": ""
           }
          },
          "scene": {
           "xaxis": {
            "backgroundcolor": "#E5ECF6",
            "gridcolor": "white",
            "gridwidth": 2,
            "linecolor": "white",
            "showbackground": true,
            "ticks": "",
            "zerolinecolor": "white"
           },
           "yaxis": {
            "backgroundcolor": "#E5ECF6",
            "gridcolor": "white",
            "gridwidth": 2,
            "linecolor": "white",
            "showbackground": true,
            "ticks": "",
            "zerolinecolor": "white"
           },
           "zaxis": {
            "backgroundcolor": "#E5ECF6",
            "gridcolor": "white",
            "gridwidth": 2,
            "linecolor": "white",
            "showbackground": true,
            "ticks": "",
            "zerolinecolor": "white"
           }
          },
          "shapedefaults": {
           "line": {
            "color": "#2a3f5f"
           }
          },
          "ternary": {
           "aaxis": {
            "gridcolor": "white",
            "linecolor": "white",
            "ticks": ""
           },
           "baxis": {
            "gridcolor": "white",
            "linecolor": "white",
            "ticks": ""
           },
           "bgcolor": "#E5ECF6",
           "caxis": {
            "gridcolor": "white",
            "linecolor": "white",
            "ticks": ""
           }
          },
          "title": {
           "x": 0.05
          },
          "xaxis": {
           "automargin": true,
           "gridcolor": "white",
           "linecolor": "white",
           "ticks": "",
           "zerolinecolor": "white",
           "zerolinewidth": 2
          },
          "yaxis": {
           "automargin": true,
           "gridcolor": "white",
           "linecolor": "white",
           "ticks": "",
           "zerolinecolor": "white",
           "zerolinewidth": 2
          }
         }
        },
        "title": {
         "text": "Number of Clusters Vs SSE "
        },
        "xaxis": {
         "title": {
          "text": "Number of Clusters"
         }
        },
        "yaxis": {
         "title": {
          "text": "SSE"
         }
        }
       }
      },
      "text/html": [
       "<div>\n",
       "        \n",
       "        \n",
       "            <div id=\"1b60f853-5dc6-4ff9-b25d-548059c1ae1b\" class=\"plotly-graph-div\" style=\"height:525px; width:100%;\"></div>\n",
       "            <script type=\"text/javascript\">\n",
       "                require([\"plotly\"], function(Plotly) {\n",
       "                    window.PLOTLYENV=window.PLOTLYENV || {};\n",
       "                    \n",
       "                if (document.getElementById(\"1b60f853-5dc6-4ff9-b25d-548059c1ae1b\")) {\n",
       "                    Plotly.newPlot(\n",
       "                        '1b60f853-5dc6-4ff9-b25d-548059c1ae1b',\n",
       "                        [{\"type\": \"scatter\", \"x\": [1, 2, 3, 4, 5, 6, 7, 8, 9], \"y\": [846.9999999999999, 686.4622338517572, 586.5946795477993, 490.21421413750045, 430.4391685836352, 371.3956998334912, 319.8591169215423, 281.0655758627862, 250.83247401699006]}],\n",
       "                        {\"template\": {\"data\": {\"bar\": [{\"error_x\": {\"color\": \"#2a3f5f\"}, \"error_y\": {\"color\": \"#2a3f5f\"}, \"marker\": {\"line\": {\"color\": \"#E5ECF6\", \"width\": 0.5}}, \"type\": \"bar\"}], \"barpolar\": [{\"marker\": {\"line\": {\"color\": \"#E5ECF6\", \"width\": 0.5}}, \"type\": \"barpolar\"}], \"carpet\": [{\"aaxis\": {\"endlinecolor\": \"#2a3f5f\", \"gridcolor\": \"white\", \"linecolor\": \"white\", \"minorgridcolor\": \"white\", \"startlinecolor\": \"#2a3f5f\"}, \"baxis\": {\"endlinecolor\": \"#2a3f5f\", \"gridcolor\": \"white\", \"linecolor\": \"white\", \"minorgridcolor\": \"white\", \"startlinecolor\": \"#2a3f5f\"}, \"type\": \"carpet\"}], \"choropleth\": [{\"colorbar\": {\"outlinewidth\": 0, \"ticks\": \"\"}, \"type\": \"choropleth\"}], \"contour\": [{\"colorbar\": {\"outlinewidth\": 0, \"ticks\": \"\"}, \"colorscale\": [[0.0, \"#0d0887\"], [0.1111111111111111, \"#46039f\"], [0.2222222222222222, \"#7201a8\"], [0.3333333333333333, \"#9c179e\"], [0.4444444444444444, \"#bd3786\"], [0.5555555555555556, \"#d8576b\"], [0.6666666666666666, \"#ed7953\"], [0.7777777777777778, \"#fb9f3a\"], [0.8888888888888888, \"#fdca26\"], [1.0, \"#f0f921\"]], \"type\": \"contour\"}], \"contourcarpet\": [{\"colorbar\": {\"outlinewidth\": 0, \"ticks\": \"\"}, \"type\": \"contourcarpet\"}], \"heatmap\": [{\"colorbar\": {\"outlinewidth\": 0, \"ticks\": \"\"}, \"colorscale\": [[0.0, \"#0d0887\"], [0.1111111111111111, \"#46039f\"], [0.2222222222222222, \"#7201a8\"], [0.3333333333333333, \"#9c179e\"], [0.4444444444444444, \"#bd3786\"], [0.5555555555555556, \"#d8576b\"], [0.6666666666666666, \"#ed7953\"], [0.7777777777777778, \"#fb9f3a\"], [0.8888888888888888, \"#fdca26\"], [1.0, \"#f0f921\"]], \"type\": \"heatmap\"}], \"heatmapgl\": [{\"colorbar\": {\"outlinewidth\": 0, \"ticks\": \"\"}, \"colorscale\": [[0.0, \"#0d0887\"], [0.1111111111111111, \"#46039f\"], [0.2222222222222222, \"#7201a8\"], [0.3333333333333333, \"#9c179e\"], [0.4444444444444444, \"#bd3786\"], [0.5555555555555556, \"#d8576b\"], [0.6666666666666666, \"#ed7953\"], [0.7777777777777778, \"#fb9f3a\"], [0.8888888888888888, \"#fdca26\"], [1.0, \"#f0f921\"]], \"type\": \"heatmapgl\"}], \"histogram\": [{\"marker\": {\"colorbar\": {\"outlinewidth\": 0, \"ticks\": \"\"}}, \"type\": \"histogram\"}], \"histogram2d\": [{\"colorbar\": {\"outlinewidth\": 0, \"ticks\": \"\"}, \"colorscale\": [[0.0, \"#0d0887\"], [0.1111111111111111, \"#46039f\"], [0.2222222222222222, \"#7201a8\"], [0.3333333333333333, \"#9c179e\"], [0.4444444444444444, \"#bd3786\"], [0.5555555555555556, \"#d8576b\"], [0.6666666666666666, \"#ed7953\"], [0.7777777777777778, \"#fb9f3a\"], [0.8888888888888888, \"#fdca26\"], [1.0, \"#f0f921\"]], \"type\": \"histogram2d\"}], \"histogram2dcontour\": [{\"colorbar\": {\"outlinewidth\": 0, \"ticks\": \"\"}, \"colorscale\": [[0.0, \"#0d0887\"], [0.1111111111111111, \"#46039f\"], [0.2222222222222222, \"#7201a8\"], [0.3333333333333333, \"#9c179e\"], [0.4444444444444444, \"#bd3786\"], [0.5555555555555556, \"#d8576b\"], [0.6666666666666666, \"#ed7953\"], [0.7777777777777778, \"#fb9f3a\"], [0.8888888888888888, \"#fdca26\"], [1.0, \"#f0f921\"]], \"type\": \"histogram2dcontour\"}], \"mesh3d\": [{\"colorbar\": {\"outlinewidth\": 0, \"ticks\": \"\"}, \"type\": \"mesh3d\"}], \"parcoords\": [{\"line\": {\"colorbar\": {\"outlinewidth\": 0, \"ticks\": \"\"}}, \"type\": \"parcoords\"}], \"scatter\": [{\"marker\": {\"colorbar\": {\"outlinewidth\": 0, \"ticks\": \"\"}}, \"type\": \"scatter\"}], \"scatter3d\": [{\"line\": {\"colorbar\": {\"outlinewidth\": 0, \"ticks\": \"\"}}, \"marker\": {\"colorbar\": {\"outlinewidth\": 0, \"ticks\": \"\"}}, \"type\": \"scatter3d\"}], \"scattercarpet\": [{\"marker\": {\"colorbar\": {\"outlinewidth\": 0, \"ticks\": \"\"}}, \"type\": \"scattercarpet\"}], \"scattergeo\": [{\"marker\": {\"colorbar\": {\"outlinewidth\": 0, \"ticks\": \"\"}}, \"type\": \"scattergeo\"}], \"scattergl\": [{\"marker\": {\"colorbar\": {\"outlinewidth\": 0, \"ticks\": \"\"}}, \"type\": \"scattergl\"}], \"scattermapbox\": [{\"marker\": {\"colorbar\": {\"outlinewidth\": 0, \"ticks\": \"\"}}, \"type\": \"scattermapbox\"}], \"scatterpolar\": [{\"marker\": {\"colorbar\": {\"outlinewidth\": 0, \"ticks\": \"\"}}, \"type\": \"scatterpolar\"}], \"scatterpolargl\": [{\"marker\": {\"colorbar\": {\"outlinewidth\": 0, \"ticks\": \"\"}}, \"type\": \"scatterpolargl\"}], \"scatterternary\": [{\"marker\": {\"colorbar\": {\"outlinewidth\": 0, \"ticks\": \"\"}}, \"type\": \"scatterternary\"}], \"surface\": [{\"colorbar\": {\"outlinewidth\": 0, \"ticks\": \"\"}, \"colorscale\": [[0.0, \"#0d0887\"], [0.1111111111111111, \"#46039f\"], [0.2222222222222222, \"#7201a8\"], [0.3333333333333333, \"#9c179e\"], [0.4444444444444444, \"#bd3786\"], [0.5555555555555556, \"#d8576b\"], [0.6666666666666666, \"#ed7953\"], [0.7777777777777778, \"#fb9f3a\"], [0.8888888888888888, \"#fdca26\"], [1.0, \"#f0f921\"]], \"type\": \"surface\"}], \"table\": [{\"cells\": {\"fill\": {\"color\": \"#EBF0F8\"}, \"line\": {\"color\": \"white\"}}, \"header\": {\"fill\": {\"color\": \"#C8D4E3\"}, \"line\": {\"color\": \"white\"}}, \"type\": \"table\"}]}, \"layout\": {\"annotationdefaults\": {\"arrowcolor\": \"#2a3f5f\", \"arrowhead\": 0, \"arrowwidth\": 1}, \"colorscale\": {\"diverging\": [[0, \"#8e0152\"], [0.1, \"#c51b7d\"], [0.2, \"#de77ae\"], [0.3, \"#f1b6da\"], [0.4, \"#fde0ef\"], [0.5, \"#f7f7f7\"], [0.6, \"#e6f5d0\"], [0.7, \"#b8e186\"], [0.8, \"#7fbc41\"], [0.9, \"#4d9221\"], [1, \"#276419\"]], \"sequential\": [[0.0, \"#0d0887\"], [0.1111111111111111, \"#46039f\"], [0.2222222222222222, \"#7201a8\"], [0.3333333333333333, \"#9c179e\"], [0.4444444444444444, \"#bd3786\"], [0.5555555555555556, \"#d8576b\"], [0.6666666666666666, \"#ed7953\"], [0.7777777777777778, \"#fb9f3a\"], [0.8888888888888888, \"#fdca26\"], [1.0, \"#f0f921\"]], \"sequentialminus\": [[0.0, \"#0d0887\"], [0.1111111111111111, \"#46039f\"], [0.2222222222222222, \"#7201a8\"], [0.3333333333333333, \"#9c179e\"], [0.4444444444444444, \"#bd3786\"], [0.5555555555555556, \"#d8576b\"], [0.6666666666666666, \"#ed7953\"], [0.7777777777777778, \"#fb9f3a\"], [0.8888888888888888, \"#fdca26\"], [1.0, \"#f0f921\"]]}, \"colorway\": [\"#636efa\", \"#EF553B\", \"#00cc96\", \"#ab63fa\", \"#FFA15A\", \"#19d3f3\", \"#FF6692\", \"#B6E880\", \"#FF97FF\", \"#FECB52\"], \"font\": {\"color\": \"#2a3f5f\"}, \"geo\": {\"bgcolor\": \"white\", \"lakecolor\": \"white\", \"landcolor\": \"#E5ECF6\", \"showlakes\": true, \"showland\": true, \"subunitcolor\": \"white\"}, \"hoverlabel\": {\"align\": \"left\"}, \"hovermode\": \"closest\", \"mapbox\": {\"style\": \"light\"}, \"paper_bgcolor\": \"white\", \"plot_bgcolor\": \"#E5ECF6\", \"polar\": {\"angularaxis\": {\"gridcolor\": \"white\", \"linecolor\": \"white\", \"ticks\": \"\"}, \"bgcolor\": \"#E5ECF6\", \"radialaxis\": {\"gridcolor\": \"white\", \"linecolor\": \"white\", \"ticks\": \"\"}}, \"scene\": {\"xaxis\": {\"backgroundcolor\": \"#E5ECF6\", \"gridcolor\": \"white\", \"gridwidth\": 2, \"linecolor\": \"white\", \"showbackground\": true, \"ticks\": \"\", \"zerolinecolor\": \"white\"}, \"yaxis\": {\"backgroundcolor\": \"#E5ECF6\", \"gridcolor\": \"white\", \"gridwidth\": 2, \"linecolor\": \"white\", \"showbackground\": true, \"ticks\": \"\", \"zerolinecolor\": \"white\"}, \"zaxis\": {\"backgroundcolor\": \"#E5ECF6\", \"gridcolor\": \"white\", \"gridwidth\": 2, \"linecolor\": \"white\", \"showbackground\": true, \"ticks\": \"\", \"zerolinecolor\": \"white\"}}, \"shapedefaults\": {\"line\": {\"color\": \"#2a3f5f\"}}, \"ternary\": {\"aaxis\": {\"gridcolor\": \"white\", \"linecolor\": \"white\", \"ticks\": \"\"}, \"baxis\": {\"gridcolor\": \"white\", \"linecolor\": \"white\", \"ticks\": \"\"}, \"bgcolor\": \"#E5ECF6\", \"caxis\": {\"gridcolor\": \"white\", \"linecolor\": \"white\", \"ticks\": \"\"}}, \"title\": {\"x\": 0.05}, \"xaxis\": {\"automargin\": true, \"gridcolor\": \"white\", \"linecolor\": \"white\", \"ticks\": \"\", \"zerolinecolor\": \"white\", \"zerolinewidth\": 2}, \"yaxis\": {\"automargin\": true, \"gridcolor\": \"white\", \"linecolor\": \"white\", \"ticks\": \"\", \"zerolinecolor\": \"white\", \"zerolinewidth\": 2}}}, \"title\": {\"text\": \"Number of Clusters Vs SSE \"}, \"xaxis\": {\"title\": {\"text\": \"Number of Clusters\"}}, \"yaxis\": {\"title\": {\"text\": \"SSE\"}}},\n",
       "                        {\"responsive\": true}\n",
       "                    ).then(function(){\n",
       "                            \n",
       "var gd = document.getElementById('1b60f853-5dc6-4ff9-b25d-548059c1ae1b');\n",
       "var x = new MutationObserver(function (mutations, observer) {{\n",
       "        var display = window.getComputedStyle(gd).display;\n",
       "        if (!display || display === 'none') {{\n",
       "            console.log([gd, 'removed!']);\n",
       "            Plotly.purge(gd);\n",
       "            observer.disconnect();\n",
       "        }}\n",
       "}});\n",
       "\n",
       "// Listen for the removal of the full notebook cells\n",
       "var notebookContainer = gd.closest('#notebook-container');\n",
       "if (notebookContainer) {{\n",
       "    x.observe(notebookContainer, {childList: true});\n",
       "}}\n",
       "\n",
       "// Listen for the clearing of the current output cell\n",
       "var outputEl = gd.closest('.output');\n",
       "if (outputEl) {{\n",
       "    x.observe(outputEl, {childList: true});\n",
       "}}\n",
       "\n",
       "                        })\n",
       "                };\n",
       "                });\n",
       "            </script>\n",
       "        </div>"
      ]
     },
     "metadata": {},
     "output_type": "display_data"
    }
   ],
   "source": [
    "trace0=go.Scatter(type=\"scatter\",\n",
    "                   x=list(sse.keys()),\n",
    "                  y=list(sse.values()))\n",
    "\n",
    "data=[trace0]\n",
    "\n",
    "layout = go.Layout(title = 'Number of Clusters Vs SSE ',xaxis=dict(title= 'Number of Clusters'),\n",
    "                   yaxis=dict(title= 'SSE'))\n",
    "\n",
    "    \n",
    "fig = go.Figure(data=data, layout=layout)    \n",
    "iplot(fig)"
   ]
  },
  {
   "cell_type": "markdown",
   "metadata": {},
   "source": [
    "### How to select best K value for K-Means -> Silhouette Analysis\n",
    "**Higher the silhouette score better the clustering**\n",
    "\n",
    "*The silhouette value is a measure of how similar an object is to its own cluster (cohesion) compared to other clusters (separation). The silhouette ranges from −1 to +1, where a high value indicates that the object is well matched to its own cluster and poorly matched to neighboring clusters. If most objects have a high value, then the clustering configuration is appropriate. If many points have a low or negative value, then the clustering configuration may have too many or too few clusters.*\n",
    "\n",
    "\n",
    "\n",
    "Silhouette analysis can be used to study the separation distance between the resulting clusters. The silhouette plot displays a measure of how close each point in one cluster is to points in the neighboring clusters and thus provides a way to assess parameters like number of clusters visually."
   ]
  },
  {
   "cell_type": "code",
   "execution_count": 23,
   "metadata": {
    "ExecuteTime": {
     "end_time": "2019-10-12T11:35:33.470720Z",
     "start_time": "2019-10-12T11:35:31.700256Z"
    },
    "scrolled": true
   },
   "outputs": [
    {
     "name": "stdout",
     "output_type": "stream",
     "text": [
      "Automatically created module for IPython interactive environment\n"
     ]
    },
    {
     "data": {
      "image/png": "[encoded data removed]",
      "text/plain": [
       "<Figure size 648x360 with 1 Axes>"
      ]
     },
     "metadata": {
      "needs_background": "light"
     },
     "output_type": "display_data"
    },
    {
     "data": {
      "image/png": "[encoded data removed]",
      "text/plain": [
       "<Figure size 648x360 with 1 Axes>"
      ]
     },
     "metadata": {
      "needs_background": "light"
     },
     "output_type": "display_data"
    },
    {
     "data": {
      "image/png": "[encoded data removed]",
      "text/plain": [
       "<Figure size 648x360 with 1 Axes>"
      ]
     },
     "metadata": {
      "needs_background": "light"
     },
     "output_type": "display_data"
    },
    {
     "data": {
      "image/png": "[encoded data removed]",
      "text/plain": [
       "<Figure size 648x360 with 1 Axes>"
      ]
     },
     "metadata": {
      "needs_background": "light"
     },
     "output_type": "display_data"
    },
    {
     "data": {
      "image/png": "[encoded data removed]",
      "text/plain": [
       "<Figure size 648x360 with 1 Axes>"
      ]
     },
     "metadata": {
      "needs_background": "light"
     },
     "output_type": "display_data"
    },
    {
     "data": {
      "image/png": "[encoded data removed]",
      "text/plain": [
       "<Figure size 648x360 with 1 Axes>"
      ]
     },
     "metadata": {
      "needs_background": "light"
     },
     "output_type": "display_data"
    },
    {
     "data": {
      "image/png": "[encoded data removed]",
      "text/plain": [
       "<Figure size 648x360 with 1 Axes>"
      ]
     },
     "metadata": {
      "needs_background": "light"
     },
     "output_type": "display_data"
    },
    {
     "data": {
      "image/png": "[encoded data removed]",
      "text/plain": [
       "<Figure size 648x360 with 1 Axes>"
      ]
     },
     "metadata": {
      "needs_background": "light"
     },
     "output_type": "display_data"
    },
    {
     "data": {
      "image/png": "[encoded data removed]",
      "text/plain": [
       "<Figure size 648x360 with 1 Axes>"
      ]
     },
     "metadata": {
      "needs_background": "light"
     },
     "output_type": "display_data"
    }
   ],
   "source": [
    "## Standard plotting code copied from sklearn documentation.\n",
    "## Just change \"X_matrix\" to the data of your choice\n",
    "\n",
    "from __future__ import print_function\n",
    "\n",
    "\n",
    "from sklearn.cluster import KMeans\n",
    "from sklearn.metrics import silhouette_samples, silhouette_score\n",
    "\n",
    "import matplotlib.pyplot as plt\n",
    "import matplotlib.cm as cm\n",
    "import numpy as np\n",
    "\n",
    "print(__doc__) \n",
    "##The print(__doc__) command simply re-uses that documentation string to write it \n",
    "#to your terminal each time you run the script\n",
    "\n",
    "### Just change this to your dataframe\n",
    "X_matrix = std_cereals.as_matrix()\n",
    "\n",
    "range_n_clusters = [3, 4, 5, 6, 7, 8, 9, 10, 11]\n",
    "\n",
    "for n_clusters in range_n_clusters:\n",
    "    # Create a subplot with 1 row and 1 column\n",
    "    fig, (ax1) = plt.subplots(1, 1)\n",
    "    fig.set_size_inches(9, 5)\n",
    "\n",
    "    # The 1st subplot is the silhouette plot\n",
    "    # The silhouette coefficient can range from -1, 1 but in this example all\n",
    "    # lie within [-0.1, 1]\n",
    "    ax1.set_xlim([-0.25, .5])\n",
    "    # The (n_clusters+1)*10 is for inserting blank space between silhouette\n",
    "    # plots of individual clusters, to demarcate them clearly.\n",
    "    ax1.set_ylim([0, len(X_matrix) + (n_clusters + 1) * 10])\n",
    "\n",
    "    # Initialize the clusterer with n_clusters value and a random generator\n",
    "    # seed of 10 for reproducibility.\n",
    "    clusterer = KMeans(n_clusters=n_clusters, random_state=10)\n",
    "    cluster_labels = clusterer.fit_predict(X_matrix)\n",
    "\n",
    "    # The silhouette_score gives the average value for all the samples.\n",
    "    # This gives a perspective into the density and separation of the formed\n",
    "    # clusters\n",
    "    silhouette_avg = silhouette_score(X_matrix, cluster_labels)\n",
    "\n",
    "    # Compute the silhouette scores for each sample\n",
    "    sample_silhouette_values = silhouette_samples(X_matrix, cluster_labels)\n",
    "\n",
    "    y_lower = 10\n",
    "    for i in range(n_clusters):\n",
    "        # Aggregate the silhouette scores for samples belonging to\n",
    "        # cluster i, and sort them\n",
    "        ith_cluster_silhouette_values = \\\n",
    "            sample_silhouette_values[cluster_labels == i]\n",
    "\n",
    "        ith_cluster_silhouette_values.sort()\n",
    "\n",
    "        size_cluster_i = ith_cluster_silhouette_values.shape[0]\n",
    "        y_upper = y_lower + size_cluster_i\n",
    "\n",
    "        color = cm.nipy_spectral(float(i) / n_clusters)\n",
    "        ax1.fill_betweenx(np.arange(y_lower, y_upper),\n",
    "                          0, ith_cluster_silhouette_values,\n",
    "                          facecolor=color, edgecolor=color, alpha=0.7)\n",
    "\n",
    "        # Label the silhouette plots with their cluster numbers at the middle\n",
    "        ax1.text(-0.05, y_lower + 0.5 * size_cluster_i, str(i))\n",
    "\n",
    "        # Compute the new y_lower for next plot\n",
    "        y_lower = y_upper + 10  # 10 for the 0 samples\n",
    "\n",
    "    ax1.set_title(\"The silhouette plot for the various clusters.\")\n",
    "    ax1.set_xlabel(\"The silhouette coefficient values\")\n",
    "    ax1.set_ylabel(\"Cluster label\")\n",
    "\n",
    "    # The vertical line for average silhouette score of all the values\n",
    "    ax1.axvline(x=silhouette_avg, color=\"red\", linestyle=\"--\")\n",
    "\n",
    "    ax1.set_yticks([])  # Clear the yaxis labels / ticks\n",
    "    ax1.set_xticks([-0.1, 0, 0.2, 0.4, 0.6, 0.8, 1])\n",
    "\n",
    "    plt.suptitle((\"For %d clusters, silhouette avg coeff = %f \" % (n_clusters,silhouette_avg)),\n",
    "                 fontsize=14, fontweight='bold')\n",
    "    plt.show()"
   ]
  },
  {
   "cell_type": "markdown",
   "metadata": {},
   "source": [
    "### Note - Higher the silhouette score better the clustering.\n",
    "Hence best K value for this dataset is 7-8"
   ]
  },
  {
   "cell_type": "code",
   "execution_count": 32,
   "metadata": {
    "ExecuteTime": {
     "end_time": "2019-10-12T12:09:30.514778Z",
     "start_time": "2019-10-12T12:09:30.446351Z"
    }
   },
   "outputs": [],
   "source": [
    "best_kmeans = KMeans(n_clusters=8, random_state=1234)\n",
    "best_kmeans.fit(std_cereals)\n",
    "best_kmeans_labels = best_kmeans.predict(std_cereals)"
   ]
  },
  {
   "cell_type": "markdown",
   "metadata": {},
   "source": [
    "## Using PCA to visualize data"
   ]
  },
  {
   "cell_type": "code",
   "execution_count": 33,
   "metadata": {
    "ExecuteTime": {
     "end_time": "2019-10-12T12:13:08.232234Z",
     "start_time": "2019-10-12T12:13:08.216562Z"
    }
   },
   "outputs": [
    {
     "name": "stdout",
     "output_type": "stream",
     "text": [
      "[0.43861176 0.17237843 0.1460522 ]\n",
      "Cumulative variance explained 0.7570423897585495\n"
     ]
    }
   ],
   "source": [
    "from sklearn.decomposition import PCA\n",
    "pca_obj = PCA(n_components=3).fit(std_cereals)\n",
    "pca_train = pca_obj.transform(std_cereals)\n",
    "print(pca_obj.explained_variance_ratio_)\n",
    "print(\"Cumulative variance explained\", np.sum(pca_obj.explained_variance_ratio_))"
   ]
  },
  {
   "cell_type": "markdown",
   "metadata": {},
   "source": [
    "## Interactive 3-D plot"
   ]
  },
  {
   "cell_type": "code",
   "execution_count": 34,
   "metadata": {
    "ExecuteTime": {
     "end_time": "2019-10-12T12:18:08.552672Z",
     "start_time": "2019-10-12T12:18:08.131314Z"
    }
   },
   "outputs": [
    {
     "data": {
      "application/vnd.plotly.v1+json": {
       "config": {
        "linkText": "Export to plot.ly",
        "plotlyServerURL": "https://plot.ly",
        "showLink": false
       },
       "data": [
        {
         "marker": {
          "color": [
           6,
           0,
           6,
           6,
           2,
           2,
           2,
           4,
           5,
           5,
           2,
           5,
           2,
           0,
           2,
           3,
           3,
           2,
           2,
           0,
           1,
           3,
           2,
           5,
           2,
           2,
           1,
           4,
           4,
           2,
           2,
           2,
           5,
           5,
           0,
           2,
           2,
           2,
           3,
           3,
           3,
           0,
           2,
           1,
           0,
           0,
           4,
           5,
           2,
           4,
           5,
           4,
           4,
           3,
           7,
           7,
           5,
           0,
           4,
           0,
           1,
           3,
           3,
           7,
           1,
           1,
           2,
           5,
           1,
           3,
           4,
           3,
           3,
           2,
           5,
           5,
           2
          ],
          "opacity": 0.8
         },
         "mode": "markers",
         "type": "scatter3d",
         "x": [
          1.6218156655939304,
          -4.1462794611333385,
          1.7635434610518717,
          2.485302759833308,
          -2.3142455852155757,
          -2.598101254654287,
          -2.3592264262504288,
          0.7102629638359207,
          -0.9076777394177312,
          -0.693698297091381,
          -2.742424806705283,
          -0.6440017770965462,
          -2.7285683544464585,
          -3.2330544033640782,
          -2.4929334213485266,
          3.3306884735361963,
          3.3935116071369427,
          -2.1930077730526425,
          -2.48795840036049,
          -3.511417190061594,
          5.296658387402943,
          3.3060595399240857,
          -2.301163883741432,
          -0.6243244475920275,
          -2.499391075909842,
          -2.1514375797495195,
          4.721316996298835,
          0.4215470868953709,
          0.8145472801640956,
          -2.45522015669638,
          -2.3969987850816112,
          -2.2089465070911336,
          -0.8625481457928601,
          -0.6486315645067093,
          -3.3334109551862507,
          -2.6168500510216255,
          -2.319741674739483,
          -2.044902052110538,
          4.072264602678258,
          4.0456343139461595,
          3.2031630066568786,
          -3.1323300796908407,
          -2.4120614487742906,
          4.839514346684614,
          -3.4292202848264055,
          -3.4340303523386204,
          0.3658909130631996,
          -0.9440375292746318,
          -2.230459199445995,
          0.892837487222245,
          -0.30391111372140533,
          0.30795923870125785,
          0.4313375231489903,
          4.618967951136525,
          0.2363604180043686,
          0.14795318223598214,
          -1.0173420319952768,
          -3.0843549030869566,
          0.6712247701139875,
          -3.3424036073344476,
          4.753652223308498,
          3.4310815494844067,
          3.334788936794739,
          0.4751449675632266,
          5.255557759967934,
          5.277971508474951,
          -2.743402684094425,
          -0.5100564391535132,
          4.915120433106395,
          4.392066682021144,
          0.9746518607922195,
          4.302580058369432,
          3.0575965453446794,
          -2.4035270818885386,
          -0.6976172564669222,
          -0.6286690269246429,
          -2.0389896920589092
         ],
         "y": [
          5.280149045938163,
          1.162588756688787,
          5.106748536997061,
          5.91885652238809,
          -0.2804025351347481,
          -0.1274377171677308,
          -1.2464843203689642,
          0.5692072843678478,
          0.5782582344821087,
          1.6116208804262282,
          -1.225643767043789,
          0.2164958689442551,
          -1.0623549684422382,
          0.8256520980487657,
          -1.57714646724263,
          -2.237745768663637,
          -1.859868680181894,
          -1.7713534775454314,
          -1.4990320597746203,
          2.0540827905418224,
          -0.7091259264258194,
          -1.852885883373522,
          0.24732413656659297,
          -0.9437525116499346,
          -1.0954453478271335,
          -1.49070716368859,
          0.6225788209055401,
          2.515496473091667,
          2.0393216582512,
          -1.4198782483066004,
          -1.0796402881703642,
          -1.551839782703412,
          0.059937126463526835,
          0.8054270938279884,
          1.473625317410221,
          -1.352463282892162,
          0.07372055453810233,
          -2.5871363430706875,
          -1.1951881324266875,
          0.22934322955722136,
          -2.7185940434433933,
          0.8788133637741415,
          -1.2443625854534552,
          -0.0695486755386186,
          0.9511611787905566,
          0.8979274483586388,
          1.7136530373956371,
          -0.7316593250701123,
          -1.0582001814867277,
          0.9116706129627423,
          -0.47805231638762563,
          1.2728686737725234,
          3.2114533226622877,
          -1.4677560208944338,
          -2.4578660311977614,
          -1.4225853335504897,
          1.0886710209865684,
          1.4759095669711544,
          2.478694050686096,
          1.4092361781512377,
          0.6030838499600724,
          -2.7868876518923797,
          -2.1693102212741575,
          -0.6297269485029289,
          1.0651302046734015,
          0.6211718686524551,
          -0.3991303288185776,
          -0.14732360254357424,
          -0.1929571861041166,
          -1.9241505625391868,
          1.8148643821063182,
          0.02399883193681608,
          -1.2916063453468705,
          -1.8450776860398563,
          0.4156661412090964,
          -0.14922969244538473,
          -0.8748507518546861
         ],
         "z": [
          2.0532178780763135,
          0.2898439710767448,
          1.452311191273962,
          3.167295113574552,
          -0.21763833450913866,
          -0.07670722933239937,
          0.19243678745827353,
          -2.339738923233423,
          0.7155474983629311,
          1.041469243989554,
          -0.7585537068435847,
          -0.4408988037046603,
          -0.7671385672823884,
          0.279417228735192,
          -0.245082489382409,
          -0.5195628140114796,
          -0.11927863491471458,
          0.402483375464799,
          -0.2503781815537324,
          0.2625486573422281,
          1.0724372949605163,
          -0.19711482760253468,
          0.5466427035958378,
          0.496645652521174,
          0.05389674600846023,
          0.04557046885495575,
          0.9564127083252632,
          -1.3489534976864546,
          -1.7591917629340048,
          0.03166271560708023,
          0.7087266598418129,
          -0.4356315009497142,
          0.6544348966519375,
          0.6530637181530149,
          0.3383345254740946,
          -0.7128007783377388,
          -0.22289980186361066,
          -0.055234004896571376,
          -1.489357810218525,
          -3.690611331227567,
          -0.72805412971147,
          0.5928315014066448,
          -0.1921996108514612,
          0.7591874900441605,
          -1.4681277706704552,
          -1.6863972893477683,
          -3.835081480643476,
          0.21529398767083036,
          -0.36230064320939703,
          -2.699810017325768,
          1.0706908929791183,
          -1.7979574855726728,
          -1.8078115409062674,
          -1.5298778212024216,
          5.304606108286751,
          5.451994749859675,
          0.670437460468464,
          1.3682330776447928,
          -1.8964636245233053,
          0.6163167620788603,
          1.3128535297405153,
          -0.3515209008271966,
          -0.5645438732150418,
          3.209365469820211,
          1.9436592387157066,
          1.867266992757179,
          0.27963609853523486,
          0.17134588305837534,
          1.2558609909847482,
          -1.6126498603784467,
          -4.442627811466229,
          -1.0265911414361892,
          -0.5216466673402037,
          -0.04728446113626383,
          0.37736625836512744,
          0.42105227448756866,
          -0.08467867200397595
         ]
        }
       ],
       "layout": {
        "height": 800,
        "scene": {
         "xaxis": {
          "showbackground": true,
          "title": {
           "font": {
            "color": "black",
            "size": 16
           },
           "text": "PCA 0"
          }
         },
         "yaxis": {
          "showbackground": true,
          "title": {
           "font": {
            "color": "black",
            "size": 16
           },
           "text": "PCA 1"
          }
         },
         "zaxis": {
          "showbackground": true,
          "title": {
           "font": {
            "color": "black",
            "size": 16
           },
           "text": "PCA 2"
          }
         }
        },
        "template": {
         "data": {
          "bar": [
           {
            "error_x": {
             "color": "#2a3f5f"
            },
            "error_y": {
             "color": "#2a3f5f"
            },
            "marker": {
             "line": {
              "color": "#E5ECF6",
              "width": 0.5
             }
            },
            "type": "bar"
           }
          ],
          "barpolar": [
           {
            "marker": {
             "line": {
              "color": "#E5ECF6",
              "width": 0.5
             }
            },
            "type": "barpolar"
           }
          ],
          "carpet": [
           {
            "aaxis": {
             "endlinecolor": "#2a3f5f",
             "gridcolor": "white",
             "linecolor": "white",
             "minorgridcolor": "white",
             "startlinecolor": "#2a3f5f"
            },
            "baxis": {
             "endlinecolor": "#2a3f5f",
             "gridcolor": "white",
             "linecolor": "white",
             "minorgridcolor": "white",
             "startlinecolor": "#2a3f5f"
            },
            "type": "carpet"
           }
          ],
          "choropleth": [
           {
            "colorbar": {
             "outlinewidth": 0,
             "ticks": ""
            },
            "type": "choropleth"
           }
          ],
          "contour": [
           {
            "colorbar": {
             "outlinewidth": 0,
             "ticks": ""
            },
            "colorscale": [
             [
              0,
              "#0d0887"
             ],
             [
              0.1111111111111111,
              "#46039f"
             ],
             [
              0.2222222222222222,
              "#7201a8"
             ],
             [
              0.3333333333333333,
              "#9c179e"
             ],
             [
              0.4444444444444444,
              "#bd3786"
             ],
             [
              0.5555555555555556,
              "#d8576b"
             ],
             [
              0.6666666666666666,
              "#ed7953"
             ],
             [
              0.7777777777777778,
              "#fb9f3a"
             ],
             [
              0.8888888888888888,
              "#fdca26"
             ],
             [
              1,
              "#f0f921"
             ]
            ],
            "type": "contour"
           }
          ],
          "contourcarpet": [
           {
            "colorbar": {
             "outlinewidth": 0,
             "ticks": ""
            },
            "type": "contourcarpet"
           }
          ],
          "heatmap": [
           {
            "colorbar": {
             "outlinewidth": 0,
             "ticks": ""
            },
            "colorscale": [
             [
              0,
              "#0d0887"
             ],
             [
              0.1111111111111111,
              "#46039f"
             ],
             [
              0.2222222222222222,
              "#7201a8"
             ],
             [
              0.3333333333333333,
              "#9c179e"
             ],
             [
              0.4444444444444444,
              "#bd3786"
             ],
             [
              0.5555555555555556,
              "#d8576b"
             ],
             [
              0.6666666666666666,
              "#ed7953"
             ],
             [
              0.7777777777777778,
              "#fb9f3a"
             ],
             [
              0.8888888888888888,
              "#fdca26"
             ],
             [
              1,
              "#f0f921"
             ]
            ],
            "type": "heatmap"
           }
          ],
          "heatmapgl": [
           {
            "colorbar": {
             "outlinewidth": 0,
             "ticks": ""
            },
            "colorscale": [
             [
              0,
              "#0d0887"
             ],
             [
              0.1111111111111111,
              "#46039f"
             ],
             [
              0.2222222222222222,
              "#7201a8"
             ],
             [
              0.3333333333333333,
              "#9c179e"
             ],
             [
              0.4444444444444444,
              "#bd3786"
             ],
             [
              0.5555555555555556,
              "#d8576b"
             ],
             [
              0.6666666666666666,
              "#ed7953"
             ],
             [
              0.7777777777777778,
              "#fb9f3a"
             ],
             [
              0.8888888888888888,
              "#fdca26"
             ],
             [
              1,
              "#f0f921"
             ]
            ],
            "type": "heatmapgl"
           }
          ],
          "histogram": [
           {
            "marker": {
             "colorbar": {
              "outlinewidth": 0,
              "ticks": ""
             }
            },
            "type": "histogram"
           }
          ],
          "histogram2d": [
           {
            "colorbar": {
             "outlinewidth": 0,
             "ticks": ""
            },
            "colorscale": [
             [
              0,
              "#0d0887"
             ],
             [
              0.1111111111111111,
              "#46039f"
             ],
             [
              0.2222222222222222,
              "#7201a8"
             ],
             [
              0.3333333333333333,
              "#9c179e"
             ],
             [
              0.4444444444444444,
              "#bd3786"
             ],
             [
              0.5555555555555556,
              "#d8576b"
             ],
             [
              0.6666666666666666,
              "#ed7953"
             ],
             [
              0.7777777777777778,
              "#fb9f3a"
             ],
             [
              0.8888888888888888,
              "#fdca26"
             ],
             [
              1,
              "#f0f921"
             ]
            ],
            "type": "histogram2d"
           }
          ],
          "histogram2dcontour": [
           {
            "colorbar": {
             "outlinewidth": 0,
             "ticks": ""
            },
            "colorscale": [
             [
              0,
              "#0d0887"
             ],
             [
              0.1111111111111111,
              "#46039f"
             ],
             [
              0.2222222222222222,
              "#7201a8"
             ],
             [
              0.3333333333333333,
              "#9c179e"
             ],
             [
              0.4444444444444444,
              "#bd3786"
             ],
             [
              0.5555555555555556,
              "#d8576b"
             ],
             [
              0.6666666666666666,
              "#ed7953"
             ],
             [
              0.7777777777777778,
              "#fb9f3a"
             ],
             [
              0.8888888888888888,
              "#fdca26"
             ],
             [
              1,
              "#f0f921"
             ]
            ],
            "type": "histogram2dcontour"
           }
          ],
          "mesh3d": [
           {
            "colorbar": {
             "outlinewidth": 0,
             "ticks": ""
            },
            "type": "mesh3d"
           }
          ],
          "parcoords": [
           {
            "line": {
             "colorbar": {
              "outlinewidth": 0,
              "ticks": ""
             }
            },
            "type": "parcoords"
           }
          ],
          "scatter": [
           {
            "marker": {
             "colorbar": {
              "outlinewidth": 0,
              "ticks": ""
             }
            },
            "type": "scatter"
           }
          ],
          "scatter3d": [
           {
            "line": {
             "colorbar": {
              "outlinewidth": 0,
              "ticks": ""
             }
            },
            "marker": {
             "colorbar": {
              "outlinewidth": 0,
              "ticks": ""
             }
            },
            "type": "scatter3d"
           }
          ],
          "scattercarpet": [
           {
            "marker": {
             "colorbar": {
              "outlinewidth": 0,
              "ticks": ""
             }
            },
            "type": "scattercarpet"
           }
          ],
          "scattergeo": [
           {
            "marker": {
             "colorbar": {
              "outlinewidth": 0,
              "ticks": ""
             }
            },
            "type": "scattergeo"
           }
          ],
          "scattergl": [
           {
            "marker": {
             "colorbar": {
              "outlinewidth": 0,
              "ticks": ""
             }
            },
            "type": "scattergl"
           }
          ],
          "scattermapbox": [
           {
            "marker": {
             "colorbar": {
              "outlinewidth": 0,
              "ticks": ""
             }
            },
            "type": "scattermapbox"
           }
          ],
          "scatterpolar": [
           {
            "marker": {
             "colorbar": {
              "outlinewidth": 0,
              "ticks": ""
             }
            },
            "type": "scatterpolar"
           }
          ],
          "scatterpolargl": [
           {
            "marker": {
             "colorbar": {
              "outlinewidth": 0,
              "ticks": ""
             }
            },
            "type": "scatterpolargl"
           }
          ],
          "scatterternary": [
           {
            "marker": {
             "colorbar": {
              "outlinewidth": 0,
              "ticks": ""
             }
            },
            "type": "scatterternary"
           }
          ],
          "surface": [
           {
            "colorbar": {
             "outlinewidth": 0,
             "ticks": ""
            },
            "colorscale": [
             [
              0,
              "#0d0887"
             ],
             [
              0.1111111111111111,
              "#46039f"
             ],
             [
              0.2222222222222222,
              "#7201a8"
             ],
             [
              0.3333333333333333,
              "#9c179e"
             ],
             [
              0.4444444444444444,
              "#bd3786"
             ],
             [
              0.5555555555555556,
              "#d8576b"
             ],
             [
              0.6666666666666666,
              "#ed7953"
             ],
             [
              0.7777777777777778,
              "#fb9f3a"
             ],
             [
              0.8888888888888888,
              "#fdca26"
             ],
             [
              1,
              "#f0f921"
             ]
            ],
            "type": "surface"
           }
          ],
          "table": [
           {
            "cells": {
             "fill": {
              "color": "#EBF0F8"
             },
             "line": {
              "color": "white"
             }
            },
            "header": {
             "fill": {
              "color": "#C8D4E3"
             },
             "line": {
              "color": "white"
             }
            },
            "type": "table"
           }
          ]
         },
         "layout": {
          "annotationdefaults": {
           "arrowcolor": "#2a3f5f",
           "arrowhead": 0,
           "arrowwidth": 1
          },
          "colorscale": {
           "diverging": [
            [
             0,
             "#8e0152"
            ],
            [
             0.1,
             "#c51b7d"
            ],
            [
             0.2,
             "#de77ae"
            ],
            [
             0.3,
             "#f1b6da"
            ],
            [
             0.4,
             "#fde0ef"
            ],
            [
             0.5,
             "#f7f7f7"
            ],
            [
             0.6,
             "#e6f5d0"
            ],
            [
             0.7,
             "#b8e186"
            ],
            [
             0.8,
             "#7fbc41"
            ],
            [
             0.9,
             "#4d9221"
            ],
            [
             1,
             "#276419"
            ]
           ],
           "sequential": [
            [
             0,
             "#0d0887"
            ],
            [
             0.1111111111111111,
             "#46039f"
            ],
            [
             0.2222222222222222,
             "#7201a8"
            ],
            [
             0.3333333333333333,
             "#9c179e"
            ],
            [
             0.4444444444444444,
             "#bd3786"
            ],
            [
             0.5555555555555556,
             "#d8576b"
            ],
            [
             0.6666666666666666,
             "#ed7953"
            ],
            [
             0.7777777777777778,
             "#fb9f3a"
            ],
            [
             0.8888888888888888,
             "#fdca26"
            ],
            [
             1,
             "#f0f921"
            ]
           ],
           "sequentialminus": [
            [
             0,
             "#0d0887"
            ],
            [
             0.1111111111111111,
             "#46039f"
            ],
            [
             0.2222222222222222,
             "#7201a8"
            ],
            [
             0.3333333333333333,
             "#9c179e"
            ],
            [
             0.4444444444444444,
             "#bd3786"
            ],
            [
             0.5555555555555556,
             "#d8576b"
            ],
            [
             0.6666666666666666,
             "#ed7953"
            ],
            [
             0.7777777777777778,
             "#fb9f3a"
            ],
            [
             0.8888888888888888,
             "#fdca26"
            ],
            [
             1,
             "#f0f921"
            ]
           ]
          },
          "colorway": [
           "#636efa",
           "#EF553B",
           "#00cc96",
           "#ab63fa",
           "#FFA15A",
           "#19d3f3",
           "#FF6692",
           "#B6E880",
           "#FF97FF",
           "#FECB52"
          ],
          "font": {
           "color": "#2a3f5f"
          },
          "geo": {
           "bgcolor": "white",
           "lakecolor": "white",
           "landcolor": "#E5ECF6",
           "showlakes": true,
           "showland": true,
           "subunitcolor": "white"
          },
          "hoverlabel": {
           "align": "left"
          },
          "hovermode": "closest",
          "mapbox": {
           "style": "light"
          },
          "paper_bgcolor": "white",
          "plot_bgcolor": "#E5ECF6",
          "polar": {
           "angularaxis": {
            "gridcolor": "white",
            "linecolor": "white",
            "ticks": ""
           },
           "bgcolor": "#E5ECF6",
           "radialaxis": {
            "gridcolor": "white",
            "linecolor": "white",
            "ticks": ""
           }
          },
          "scene": {
           "xaxis": {
            "backgroundcolor": "#E5ECF6",
            "gridcolor": "white",
            "gridwidth": 2,
            "linecolor": "white",
            "showbackground": true,
            "ticks": "",
            "zerolinecolor": "white"
           },
           "yaxis": {
            "backgroundcolor": "#E5ECF6",
            "gridcolor": "white",
            "gridwidth": 2,
            "linecolor": "white",
            "showbackground": true,
            "ticks": "",
            "zerolinecolor": "white"
           },
           "zaxis": {
            "backgroundcolor": "#E5ECF6",
            "gridcolor": "white",
            "gridwidth": 2,
            "linecolor": "white",
            "showbackground": true,
            "ticks": "",
            "zerolinecolor": "white"
           }
          },
          "shapedefaults": {
           "line": {
            "color": "#2a3f5f"
           }
          },
          "ternary": {
           "aaxis": {
            "gridcolor": "white",
            "linecolor": "white",
            "ticks": ""
           },
           "baxis": {
            "gridcolor": "white",
            "linecolor": "white",
            "ticks": ""
           },
           "bgcolor": "#E5ECF6",
           "caxis": {
            "gridcolor": "white",
            "linecolor": "white",
            "ticks": ""
           }
          },
          "title": {
           "x": 0.05
          },
          "xaxis": {
           "automargin": true,
           "gridcolor": "white",
           "linecolor": "white",
           "ticks": "",
           "zerolinecolor": "white",
           "zerolinewidth": 2
          },
          "yaxis": {
           "automargin": true,
           "gridcolor": "white",
           "linecolor": "white",
           "ticks": "",
           "zerolinecolor": "white",
           "zerolinewidth": 2
          }
         }
        },
        "title": {
         "text": "Clustering"
        },
        "width": 1000
       }
      },
      "text/html": [
       "<div>\n",
       "        \n",
       "        \n",
       "            <div id=\"0aed95dd-980d-48c9-ab81-e33620e3035d\" class=\"plotly-graph-div\" style=\"height:800px; width:1000px;\"></div>\n",
       "            <script type=\"text/javascript\">\n",
       "                require([\"plotly\"], function(Plotly) {\n",
       "                    window.PLOTLYENV=window.PLOTLYENV || {};\n",
       "                    \n",
       "                if (document.getElementById(\"0aed95dd-980d-48c9-ab81-e33620e3035d\")) {\n",
       "                    Plotly.newPlot(\n",
       "                        '0aed95dd-980d-48c9-ab81-e33620e3035d',\n",
       "                        [{\"marker\": {\"color\": [6, 0, 6, 6, 2, 2, 2, 4, 5, 5, 2, 5, 2, 0, 2, 3, 3, 2, 2, 0, 1, 3, 2, 5, 2, 2, 1, 4, 4, 2, 2, 2, 5, 5, 0, 2, 2, 2, 3, 3, 3, 0, 2, 1, 0, 0, 4, 5, 2, 4, 5, 4, 4, 3, 7, 7, 5, 0, 4, 0, 1, 3, 3, 7, 1, 1, 2, 5, 1, 3, 4, 3, 3, 2, 5, 5, 2], \"opacity\": 0.8}, \"mode\": \"markers\", \"type\": \"scatter3d\", \"x\": [1.6218156655939304, -4.1462794611333385, 1.7635434610518717, 2.485302759833308, -2.3142455852155757, -2.598101254654287, -2.3592264262504288, 0.7102629638359207, -0.9076777394177312, -0.693698297091381, -2.742424806705283, -0.6440017770965462, -2.7285683544464585, -3.2330544033640782, -2.4929334213485266, 3.3306884735361963, 3.3935116071369427, -2.1930077730526425, -2.48795840036049, -3.511417190061594, 5.296658387402943, 3.3060595399240857, -2.301163883741432, -0.6243244475920275, -2.499391075909842, -2.1514375797495195, 4.721316996298835, 0.4215470868953709, 0.8145472801640956, -2.45522015669638, -2.3969987850816112, -2.2089465070911336, -0.8625481457928601, -0.6486315645067093, -3.3334109551862507, -2.6168500510216255, -2.319741674739483, -2.044902052110538, 4.072264602678258, 4.0456343139461595, 3.2031630066568786, -3.1323300796908407, -2.4120614487742906, 4.839514346684614, -3.4292202848264055, -3.4340303523386204, 0.3658909130631996, -0.9440375292746318, -2.230459199445995, 0.892837487222245, -0.30391111372140533, 0.30795923870125785, 0.4313375231489903, 4.618967951136525, 0.2363604180043686, 0.14795318223598214, -1.0173420319952768, -3.0843549030869566, 0.6712247701139875, -3.3424036073344476, 4.753652223308498, 3.4310815494844067, 3.334788936794739, 0.4751449675632266, 5.255557759967934, 5.277971508474951, -2.743402684094425, -0.5100564391535132, 4.915120433106395, 4.392066682021144, 0.9746518607922195, 4.302580058369432, 3.0575965453446794, -2.4035270818885386, -0.6976172564669222, -0.6286690269246429, -2.0389896920589092], \"y\": [5.280149045938163, 1.162588756688787, 5.106748536997061, 5.91885652238809, -0.2804025351347481, -0.1274377171677308, -1.2464843203689642, 0.5692072843678478, 0.5782582344821087, 1.6116208804262282, -1.225643767043789, 0.2164958689442551, -1.0623549684422382, 0.8256520980487657, -1.57714646724263, -2.237745768663637, -1.859868680181894, -1.7713534775454314, -1.4990320597746203, 2.0540827905418224, -0.7091259264258194, -1.852885883373522, 0.24732413656659297, -0.9437525116499346, -1.0954453478271335, -1.49070716368859, 0.6225788209055401, 2.515496473091667, 2.0393216582512, -1.4198782483066004, -1.0796402881703642, -1.551839782703412, 0.059937126463526835, 0.8054270938279884, 1.473625317410221, -1.352463282892162, 0.07372055453810233, -2.5871363430706875, -1.1951881324266875, 0.22934322955722136, -2.7185940434433933, 0.8788133637741415, -1.2443625854534552, -0.0695486755386186, 0.9511611787905566, 0.8979274483586388, 1.7136530373956371, -0.7316593250701123, -1.0582001814867277, 0.9116706129627423, -0.47805231638762563, 1.2728686737725234, 3.2114533226622877, -1.4677560208944338, -2.4578660311977614, -1.4225853335504897, 1.0886710209865684, 1.4759095669711544, 2.478694050686096, 1.4092361781512377, 0.6030838499600724, -2.7868876518923797, -2.1693102212741575, -0.6297269485029289, 1.0651302046734015, 0.6211718686524551, -0.3991303288185776, -0.14732360254357424, -0.1929571861041166, -1.9241505625391868, 1.8148643821063182, 0.02399883193681608, -1.2916063453468705, -1.8450776860398563, 0.4156661412090964, -0.14922969244538473, -0.8748507518546861], \"z\": [2.0532178780763135, 0.2898439710767448, 1.452311191273962, 3.167295113574552, -0.21763833450913866, -0.07670722933239937, 0.19243678745827353, -2.339738923233423, 0.7155474983629311, 1.041469243989554, -0.7585537068435847, -0.4408988037046603, -0.7671385672823884, 0.279417228735192, -0.245082489382409, -0.5195628140114796, -0.11927863491471458, 0.402483375464799, -0.2503781815537324, 0.2625486573422281, 1.0724372949605163, -0.19711482760253468, 0.5466427035958378, 0.496645652521174, 0.05389674600846023, 0.04557046885495575, 0.9564127083252632, -1.3489534976864546, -1.7591917629340048, 0.03166271560708023, 0.7087266598418129, -0.4356315009497142, 0.6544348966519375, 0.6530637181530149, 0.3383345254740946, -0.7128007783377388, -0.22289980186361066, -0.055234004896571376, -1.489357810218525, -3.690611331227567, -0.72805412971147, 0.5928315014066448, -0.1921996108514612, 0.7591874900441605, -1.4681277706704552, -1.6863972893477683, -3.835081480643476, 0.21529398767083036, -0.36230064320939703, -2.699810017325768, 1.0706908929791183, -1.7979574855726728, -1.8078115409062674, -1.5298778212024216, 5.304606108286751, 5.451994749859675, 0.670437460468464, 1.3682330776447928, -1.8964636245233053, 0.6163167620788603, 1.3128535297405153, -0.3515209008271966, -0.5645438732150418, 3.209365469820211, 1.9436592387157066, 1.867266992757179, 0.27963609853523486, 0.17134588305837534, 1.2558609909847482, -1.6126498603784467, -4.442627811466229, -1.0265911414361892, -0.5216466673402037, -0.04728446113626383, 0.37736625836512744, 0.42105227448756866, -0.08467867200397595]}],\n",
       "                        {\"height\": 800, \"scene\": {\"xaxis\": {\"showbackground\": true, \"title\": {\"font\": {\"color\": \"black\", \"size\": 16}, \"text\": \"PCA 0\"}}, \"yaxis\": {\"showbackground\": true, \"title\": {\"font\": {\"color\": \"black\", \"size\": 16}, \"text\": \"PCA 1\"}}, \"zaxis\": {\"showbackground\": true, \"title\": {\"font\": {\"color\": \"black\", \"size\": 16}, \"text\": \"PCA 2\"}}}, \"template\": {\"data\": {\"bar\": [{\"error_x\": {\"color\": \"#2a3f5f\"}, \"error_y\": {\"color\": \"#2a3f5f\"}, \"marker\": {\"line\": {\"color\": \"#E5ECF6\", \"width\": 0.5}}, \"type\": \"bar\"}], \"barpolar\": [{\"marker\": {\"line\": {\"color\": \"#E5ECF6\", \"width\": 0.5}}, \"type\": \"barpolar\"}], \"carpet\": [{\"aaxis\": {\"endlinecolor\": \"#2a3f5f\", \"gridcolor\": \"white\", \"linecolor\": \"white\", \"minorgridcolor\": \"white\", \"startlinecolor\": \"#2a3f5f\"}, \"baxis\": {\"endlinecolor\": \"#2a3f5f\", \"gridcolor\": \"white\", \"linecolor\": \"white\", \"minorgridcolor\": \"white\", \"startlinecolor\": \"#2a3f5f\"}, \"type\": \"carpet\"}], \"choropleth\": [{\"colorbar\": {\"outlinewidth\": 0, \"ticks\": \"\"}, \"type\": \"choropleth\"}], \"contour\": [{\"colorbar\": {\"outlinewidth\": 0, \"ticks\": \"\"}, \"colorscale\": [[0.0, \"#0d0887\"], [0.1111111111111111, \"#46039f\"], [0.2222222222222222, \"#7201a8\"], [0.3333333333333333, \"#9c179e\"], [0.4444444444444444, \"#bd3786\"], [0.5555555555555556, \"#d8576b\"], [0.6666666666666666, \"#ed7953\"], [0.7777777777777778, \"#fb9f3a\"], [0.8888888888888888, \"#fdca26\"], [1.0, \"#f0f921\"]], \"type\": \"contour\"}], \"contourcarpet\": [{\"colorbar\": {\"outlinewidth\": 0, \"ticks\": \"\"}, \"type\": \"contourcarpet\"}], \"heatmap\": [{\"colorbar\": {\"outlinewidth\": 0, \"ticks\": \"\"}, \"colorscale\": [[0.0, \"#0d0887\"], [0.1111111111111111, \"#46039f\"], [0.2222222222222222, \"#7201a8\"], [0.3333333333333333, \"#9c179e\"], [0.4444444444444444, \"#bd3786\"], [0.5555555555555556, \"#d8576b\"], [0.6666666666666666, \"#ed7953\"], [0.7777777777777778, \"#fb9f3a\"], [0.8888888888888888, \"#fdca26\"], [1.0, \"#f0f921\"]], \"type\": \"heatmap\"}], \"heatmapgl\": [{\"colorbar\": {\"outlinewidth\": 0, \"ticks\": \"\"}, \"colorscale\": [[0.0, \"#0d0887\"], [0.1111111111111111, \"#46039f\"], [0.2222222222222222, \"#7201a8\"], [0.3333333333333333, \"#9c179e\"], [0.4444444444444444, \"#bd3786\"], [0.5555555555555556, \"#d8576b\"], [0.6666666666666666, \"#ed7953\"], [0.7777777777777778, \"#fb9f3a\"], [0.8888888888888888, \"#fdca26\"], [1.0, \"#f0f921\"]], \"type\": \"heatmapgl\"}], \"histogram\": [{\"marker\": {\"colorbar\": {\"outlinewidth\": 0, \"ticks\": \"\"}}, \"type\": \"histogram\"}], \"histogram2d\": [{\"colorbar\": {\"outlinewidth\": 0, \"ticks\": \"\"}, \"colorscale\": [[0.0, \"#0d0887\"], [0.1111111111111111, \"#46039f\"], [0.2222222222222222, \"#7201a8\"], [0.3333333333333333, \"#9c179e\"], [0.4444444444444444, \"#bd3786\"], [0.5555555555555556, \"#d8576b\"], [0.6666666666666666, \"#ed7953\"], [0.7777777777777778, \"#fb9f3a\"], [0.8888888888888888, \"#fdca26\"], [1.0, \"#f0f921\"]], \"type\": \"histogram2d\"}], \"histogram2dcontour\": [{\"colorbar\": {\"outlinewidth\": 0, \"ticks\": \"\"}, \"colorscale\": [[0.0, \"#0d0887\"], [0.1111111111111111, \"#46039f\"], [0.2222222222222222, \"#7201a8\"], [0.3333333333333333, \"#9c179e\"], [0.4444444444444444, \"#bd3786\"], [0.5555555555555556, \"#d8576b\"], [0.6666666666666666, \"#ed7953\"], [0.7777777777777778, \"#fb9f3a\"], [0.8888888888888888, \"#fdca26\"], [1.0, \"#f0f921\"]], \"type\": \"histogram2dcontour\"}], \"mesh3d\": [{\"colorbar\": {\"outlinewidth\": 0, \"ticks\": \"\"}, \"type\": \"mesh3d\"}], \"parcoords\": [{\"line\": {\"colorbar\": {\"outlinewidth\": 0, \"ticks\": \"\"}}, \"type\": \"parcoords\"}], \"scatter\": [{\"marker\": {\"colorbar\": {\"outlinewidth\": 0, \"ticks\": \"\"}}, \"type\": \"scatter\"}], \"scatter3d\": [{\"line\": {\"colorbar\": {\"outlinewidth\": 0, \"ticks\": \"\"}}, \"marker\": {\"colorbar\": {\"outlinewidth\": 0, \"ticks\": \"\"}}, \"type\": \"scatter3d\"}], \"scattercarpet\": [{\"marker\": {\"colorbar\": {\"outlinewidth\": 0, \"ticks\": \"\"}}, \"type\": \"scattercarpet\"}], \"scattergeo\": [{\"marker\": {\"colorbar\": {\"outlinewidth\": 0, \"ticks\": \"\"}}, \"type\": \"scattergeo\"}], \"scattergl\": [{\"marker\": {\"colorbar\": {\"outlinewidth\": 0, \"ticks\": \"\"}}, \"type\": \"scattergl\"}], \"scattermapbox\": [{\"marker\": {\"colorbar\": {\"outlinewidth\": 0, \"ticks\": \"\"}}, \"type\": \"scattermapbox\"}], \"scatterpolar\": [{\"marker\": {\"colorbar\": {\"outlinewidth\": 0, \"ticks\": \"\"}}, \"type\": \"scatterpolar\"}], \"scatterpolargl\": [{\"marker\": {\"colorbar\": {\"outlinewidth\": 0, \"ticks\": \"\"}}, \"type\": \"scatterpolargl\"}], \"scatterternary\": [{\"marker\": {\"colorbar\": {\"outlinewidth\": 0, \"ticks\": \"\"}}, \"type\": \"scatterternary\"}], \"surface\": [{\"colorbar\": {\"outlinewidth\": 0, \"ticks\": \"\"}, \"colorscale\": [[0.0, \"#0d0887\"], [0.1111111111111111, \"#46039f\"], [0.2222222222222222, \"#7201a8\"], [0.3333333333333333, \"#9c179e\"], [0.4444444444444444, \"#bd3786\"], [0.5555555555555556, \"#d8576b\"], [0.6666666666666666, \"#ed7953\"], [0.7777777777777778, \"#fb9f3a\"], [0.8888888888888888, \"#fdca26\"], [1.0, \"#f0f921\"]], \"type\": \"surface\"}], \"table\": [{\"cells\": {\"fill\": {\"color\": \"#EBF0F8\"}, \"line\": {\"color\": \"white\"}}, \"header\": {\"fill\": {\"color\": \"#C8D4E3\"}, \"line\": {\"color\": \"white\"}}, \"type\": \"table\"}]}, \"layout\": {\"annotationdefaults\": {\"arrowcolor\": \"#2a3f5f\", \"arrowhead\": 0, \"arrowwidth\": 1}, \"colorscale\": {\"diverging\": [[0, \"#8e0152\"], [0.1, \"#c51b7d\"], [0.2, \"#de77ae\"], [0.3, \"#f1b6da\"], [0.4, \"#fde0ef\"], [0.5, \"#f7f7f7\"], [0.6, \"#e6f5d0\"], [0.7, \"#b8e186\"], [0.8, \"#7fbc41\"], [0.9, \"#4d9221\"], [1, \"#276419\"]], \"sequential\": [[0.0, \"#0d0887\"], [0.1111111111111111, \"#46039f\"], [0.2222222222222222, \"#7201a8\"], [0.3333333333333333, \"#9c179e\"], [0.4444444444444444, \"#bd3786\"], [0.5555555555555556, \"#d8576b\"], [0.6666666666666666, \"#ed7953\"], [0.7777777777777778, \"#fb9f3a\"], [0.8888888888888888, \"#fdca26\"], [1.0, \"#f0f921\"]], \"sequentialminus\": [[0.0, \"#0d0887\"], [0.1111111111111111, \"#46039f\"], [0.2222222222222222, \"#7201a8\"], [0.3333333333333333, \"#9c179e\"], [0.4444444444444444, \"#bd3786\"], [0.5555555555555556, \"#d8576b\"], [0.6666666666666666, \"#ed7953\"], [0.7777777777777778, \"#fb9f3a\"], [0.8888888888888888, \"#fdca26\"], [1.0, \"#f0f921\"]]}, \"colorway\": [\"#636efa\", \"#EF553B\", \"#00cc96\", \"#ab63fa\", \"#FFA15A\", \"#19d3f3\", \"#FF6692\", \"#B6E880\", \"#FF97FF\", \"#FECB52\"], \"font\": {\"color\": \"#2a3f5f\"}, \"geo\": {\"bgcolor\": \"white\", \"lakecolor\": \"white\", \"landcolor\": \"#E5ECF6\", \"showlakes\": true, \"showland\": true, \"subunitcolor\": \"white\"}, \"hoverlabel\": {\"align\": \"left\"}, \"hovermode\": \"closest\", \"mapbox\": {\"style\": \"light\"}, \"paper_bgcolor\": \"white\", \"plot_bgcolor\": \"#E5ECF6\", \"polar\": {\"angularaxis\": {\"gridcolor\": \"white\", \"linecolor\": \"white\", \"ticks\": \"\"}, \"bgcolor\": \"#E5ECF6\", \"radialaxis\": {\"gridcolor\": \"white\", \"linecolor\": \"white\", \"ticks\": \"\"}}, \"scene\": {\"xaxis\": {\"backgroundcolor\": \"#E5ECF6\", \"gridcolor\": \"white\", \"gridwidth\": 2, \"linecolor\": \"white\", \"showbackground\": true, \"ticks\": \"\", \"zerolinecolor\": \"white\"}, \"yaxis\": {\"backgroundcolor\": \"#E5ECF6\", \"gridcolor\": \"white\", \"gridwidth\": 2, \"linecolor\": \"white\", \"showbackground\": true, \"ticks\": \"\", \"zerolinecolor\": \"white\"}, \"zaxis\": {\"backgroundcolor\": \"#E5ECF6\", \"gridcolor\": \"white\", \"gridwidth\": 2, \"linecolor\": \"white\", \"showbackground\": true, \"ticks\": \"\", \"zerolinecolor\": \"white\"}}, \"shapedefaults\": {\"line\": {\"color\": \"#2a3f5f\"}}, \"ternary\": {\"aaxis\": {\"gridcolor\": \"white\", \"linecolor\": \"white\", \"ticks\": \"\"}, \"baxis\": {\"gridcolor\": \"white\", \"linecolor\": \"white\", \"ticks\": \"\"}, \"bgcolor\": \"#E5ECF6\", \"caxis\": {\"gridcolor\": \"white\", \"linecolor\": \"white\", \"ticks\": \"\"}}, \"title\": {\"x\": 0.05}, \"xaxis\": {\"automargin\": true, \"gridcolor\": \"white\", \"linecolor\": \"white\", \"ticks\": \"\", \"zerolinecolor\": \"white\", \"zerolinewidth\": 2}, \"yaxis\": {\"automargin\": true, \"gridcolor\": \"white\", \"linecolor\": \"white\", \"ticks\": \"\", \"zerolinecolor\": \"white\", \"zerolinewidth\": 2}}}, \"title\": {\"text\": \"Clustering\"}, \"width\": 1000},\n",
       "                        {\"responsive\": true}\n",
       "                    ).then(function(){\n",
       "                            \n",
       "var gd = document.getElementById('0aed95dd-980d-48c9-ab81-e33620e3035d');\n",
       "var x = new MutationObserver(function (mutations, observer) {{\n",
       "        var display = window.getComputedStyle(gd).display;\n",
       "        if (!display || display === 'none') {{\n",
       "            console.log([gd, 'removed!']);\n",
       "            Plotly.purge(gd);\n",
       "            observer.disconnect();\n",
       "        }}\n",
       "}});\n",
       "\n",
       "// Listen for the removal of the full notebook cells\n",
       "var notebookContainer = gd.closest('#notebook-container');\n",
       "if (notebookContainer) {{\n",
       "    x.observe(notebookContainer, {childList: true});\n",
       "}}\n",
       "\n",
       "// Listen for the clearing of the current output cell\n",
       "var outputEl = gd.closest('.output');\n",
       "if (outputEl) {{\n",
       "    x.observe(outputEl, {childList: true});\n",
       "}}\n",
       "\n",
       "                        })\n",
       "                };\n",
       "                });\n",
       "            </script>\n",
       "        </div>"
      ]
     },
     "metadata": {},
     "output_type": "display_data"
    }
   ],
   "source": [
    "trace1 = go.Scatter3d(\n",
    "    x=pca_train[:,0],\n",
    "    y=pca_train[:,1],\n",
    "    z=pca_train[:,2],\n",
    "    mode='markers',\n",
    "    marker=dict(\n",
    "        color=best_kmeans.labels_, \n",
    "        opacity=0.8\n",
    "    )\n",
    ")\n",
    "\n",
    "\n",
    "data = [trace1]\n",
    "layout = go.Layout(\n",
    "                    scene = dict(\n",
    "                    xaxis = dict(\n",
    "                        title='PCA 0',\n",
    "                        #backgroundcolor=\"black\",\n",
    "                        showbackground=True,\n",
    "                        titlefont=dict(\n",
    "                                        size=16,\n",
    "                                        color='black'\n",
    "                                        )\n",
    "                    ),\n",
    "                    yaxis = dict(\n",
    "                        title='PCA 1',\n",
    "                        showbackground=True,\n",
    "                        #backgroundcolor=\"black\",\n",
    "                        titlefont=dict(\n",
    "                                        size=16,\n",
    "                                        color='black'\n",
    "                                        )\n",
    "                    ),\n",
    "                    zaxis = dict(\n",
    "                        title='PCA 2',\n",
    "                        #backgroundcolor=\"black\",\n",
    "                        showbackground=True,\n",
    "                        titlefont=dict(\n",
    "                                        size=16,\n",
    "                                        color='black'\n",
    "                                        )\n",
    "                    )\n",
    "                    ),\n",
    "                        width=1000, # height of the figure in pixels\n",
    "                        height=800, # height of the figure in pixels\n",
    "                  )\n",
    "fig = go.Figure(data=data, layout=layout)\n",
    "fig['layout'].update(title= \"Clustering\")\n",
    "iplot(fig)\n"
   ]
  },
  {
   "cell_type": "code",
   "execution_count": 27,
   "metadata": {
    "ExecuteTime": {
     "end_time": "2019-10-12T11:35:34.109312Z",
     "start_time": "2019-10-12T11:35:33.995000Z"
    }
   },
   "outputs": [],
   "source": [
    "cereals['best_kmeans_cluster'] = best_kmeans_labels\n",
    "cereals.to_csv('cereal with cluster_label.csv')"
   ]
  },
  {
   "cell_type": "code",
   "execution_count": null,
   "metadata": {},
   "outputs": [],
   "source": []
  },
  {
   "cell_type": "code",
   "execution_count": null,
   "metadata": {},
   "outputs": [],
   "source": []
  }
 ],
 "metadata": {
  "kernelspec": {
   "display_name": "Python 3",
   "language": "python",
   "name": "python3"
  },
  "language_info": {
   "codemirror_mode": {
    "name": "ipython",
    "version": 3
   },
   "file_extension": ".py",
   "mimetype": "text/x-python",
   "name": "python",
   "nbconvert_exporter": "python",
   "pygments_lexer": "ipython3",
   "version": "3.6.5"
  },
  "varInspector": {
   "cols": {
    "lenName": 16,
    "lenType": 16,
    "lenVar": 40
   },
   "kernels_config": {
    "python": {
     "delete_cmd_postfix": "",
     "delete_cmd_prefix": "del ",
     "library": "var_list.py",
     "varRefreshCmd": "print(var_dic_list())"
    },
    "r": {
     "delete_cmd_postfix": ") ",
     "delete_cmd_prefix": "rm(",
     "library": "var_list.r",
     "varRefreshCmd": "cat(var_dic_list()) "
    }
   },
   "types_to_exclude": [
    "module",
    "function",
    "builtin_function_or_method",
    "instance",
    "_Feature"
   ],
   "window_display": false
  }
 },
 "nbformat": 4,
 "nbformat_minor": 1
}
